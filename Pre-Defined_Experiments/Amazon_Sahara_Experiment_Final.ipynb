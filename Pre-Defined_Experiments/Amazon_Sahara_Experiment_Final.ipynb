{
 "cells": [
  {
   "cell_type": "code",
   "execution_count": 1,
   "id": "8b54b748",
   "metadata": {},
   "outputs": [],
   "source": [
    "using SpeedyWeather\n",
    "using GeoMakie, CairoMakie\n",
    "using ProgressMeter\n",
    "using IJulia"
   ]
  },
  {
   "cell_type": "markdown",
   "id": "b558efda",
   "metadata": {},
   "source": [
    "### CTRL Experiment"
   ]
  },
  {
   "cell_type": "code",
   "execution_count": null,
   "id": "0503bc45",
   "metadata": {},
   "outputs": [],
   "source": [
    "spectral_grid = SpectralGrid(trunc=31, nlayers=8)\n",
    "\n",
    "output = NetCDFOutput(spectral_grid, PrimitiveWetModel, path=\"/gws/nopw/j04/hrcm/naren/SpeedyWeather\", id=\"Veg_CTRL_Exp\", output_dt=Hour(6))\n",
    "\n",
    "vertical_advection = WENOVerticalAdvection(spectral_grid)\n",
    "\n",
    "#Try to fix ocean albedo\n",
    "albedo = Albedo(ocean=OceanSeaIceAlbedo(spectral_grid), land=AlbedoClimatology(spectral_grid))\n",
    "\n",
    "## Continuation run\n",
    "initial_conditions = StartFromFile(path=\"/gws/nopw/j04/hrcm/naren/SpeedyWeather\", id=\"Veg_CTRL_Spinup\",run_number=2)   # or specify `path` kwarg if not in this folder\n",
    "\n",
    "model = PrimitiveWetModel(spectral_grid; vertical_advection, initial_conditions, albedo, output)\n",
    "#add!(model, SpeedyWeather.AllOutputVariables()...)\n",
    "#\n",
    "#model = PrimitiveWetModel(spectral_grid; vertical_advection, albedo, output)\n",
    "simulation = initialize!(model)\n",
    "\n",
    "# now offset via set! with add=true\n",
    "set!(albedo.land, (λ, φ) -> 0.1, add=true)\n",
    "\n",
    "# first arg: what you want to initialize, 2nd: always model (read only)\n",
    "#initialize!(model.land, model)   # first arg: what you want to initialize, 2nd: always model (read only)\n",
    "\n",
    "# output both SST and sea ice concentration\n",
    "add!(model, SpeedyWeather.OceanOutput()...)\n",
    "add!(model, SpeedyWeather.LandOutput()...)\n",
    "add!(model, SpeedyWeather.RadiationOutput()...)\n",
    "add!(model, SpeedyWeather.PrecipitationOutput()...)\n",
    "add!(model, SpeedyWeather.SurfaceFluxesOutput()...)\n",
    "add!(model, SpeedyWeather.AlbedoOutput())\n",
    "\n",
    "# Finally, let us run the model\n",
    "run!(simulation, period=Year(1), output=true)"
   ]
  },
  {
   "cell_type": "markdown",
   "id": "7f34f1f7",
   "metadata": {},
   "source": [
    "### Exp. I - Swapping Amazon and Sahara"
   ]
  },
  {
   "cell_type": "code",
   "execution_count": null,
   "id": "3179e8dd",
   "metadata": {},
   "outputs": [],
   "source": [
    "output_2 = NetCDFOutput(spectral_grid, PrimitiveWetModel, path=\"/gws/nopw/j04/hrcm/naren/SpeedyWeather\", id=\"Veg_Swap_Exp\", output_dt=Hour(6))\n",
    "\n",
    "land_albedo_2 = AlbedoClimatology(spectral_grid; path=\"/home/users/naren047/Documents/SpeedyWeather/New_Input\", file=\"albedo_swap_exp.nc\")\n",
    "albedo_2 = Albedo(ocean=OceanSeaIceAlbedo(spectral_grid), land=land_albedo_2)\n",
    "\n",
    "vegetation_2 = VegetationClimatology(spectral_grid; path=\"/home/users/naren047/Documents/SpeedyWeather/New_Input\", file=\"vegetation_swap_exp.nc\")\n",
    "land_2 = LandModel(spectral_grid; vegetation = vegetation_2)\n",
    "\n",
    "## Continuation run\n",
    "initial_conditions_2 = StartFromFile(path=\"/gws/nopw/j04/hrcm/naren/SpeedyWeather\", id=\"Veg_Swap_Spinup\",run_number=2)   # or specify `path` kwarg if not in this folder\n",
    "\n",
    "model_2 = PrimitiveWetModel(spectral_grid; vertical_advection, initial_conditions = initial_conditions_2 , land = land_2, albedo = albedo_2, output = output_2)\n",
    "\n",
    "simulation_2 = initialize!(model_2)\n",
    "\n",
    "# now offset via set! with add=true\n",
    "set!(albedo_2.land, (λ, φ) -> 0.1, add=true)\n",
    "\n",
    "# output both SST and sea ice concentration\n",
    "add!(model_2, SpeedyWeather.OceanOutput()...)\n",
    "add!(model_2, SpeedyWeather.LandOutput()...)\n",
    "add!(model_2, SpeedyWeather.RadiationOutput()...)\n",
    "add!(model_2, SpeedyWeather.PrecipitationOutput()...)\n",
    "add!(model_2, SpeedyWeather.SurfaceFluxesOutput()...)\n",
    "add!(model_2, SpeedyWeather.AlbedoOutput())\n",
    "\n",
    "#initialize!(model_2.land, model_2)\n",
    "\n",
    "# Finally, let us run the model\n",
    "run!(simulation_2, period=Year(1), output=true)"
   ]
  },
  {
   "cell_type": "markdown",
   "id": "4c950730",
   "metadata": {},
   "source": [
    "### Exp. II - Two Sahara's "
   ]
  },
  {
   "cell_type": "code",
   "execution_count": null,
   "id": "ea24c3d9",
   "metadata": {},
   "outputs": [],
   "source": [
    "output_3 = NetCDFOutput(spectral_grid, PrimitiveWetModel, path=\"/gws/nopw/j04/hrcm/naren/SpeedyWeather\", id=\"Veg_Sahara2_Exp\", output_dt=Hour(6))\n",
    "\n",
    "land_albedo_3 = AlbedoClimatology(spectral_grid; path=\"/home/users/naren047/Documents/SpeedyWeather/New_Input/\", file=\"albedo_sahara2_exp.nc\")\n",
    "albedo_3 = Albedo(ocean=OceanSeaIceAlbedo(spectral_grid), land = land_albedo_3)\n",
    "\n",
    "vegetation_3 = VegetationClimatology(spectral_grid; path=\"/home/users/naren047/Documents/SpeedyWeather/New_Input/\", file=\"vegetation_sahara2_exp.nc\")\n",
    "land_3 = LandModel(spectral_grid; vegetation = vegetation_3)\n",
    "\n",
    "## Continuation run\n",
    "initial_conditions_3 = StartFromFile(path=\"/gws/nopw/j04/hrcm/naren/SpeedyWeather\", id=\"Veg_Sahara2_Spinup\",run_number=2)   # or specify `path` kwarg if not in this folder\n",
    "\n",
    "model_3 = PrimitiveWetModel(spectral_grid; vertical_advection, initial_conditions = initial_conditions_3, land = land_3, albedo = albedo_3, output = output_3)\n",
    "\n",
    "#model_3 = PrimitiveWetModel(spectral_grid; vertical_advection, land = land_3, albedo = albedo_3, output = output_3)\n",
    "simulation_3 = initialize!(model_3)\n",
    "\n",
    "# now offset via set! with add=true\n",
    "set!(albedo_3.land, (λ, φ) -> 0.1, add=true)\n",
    "\n",
    "# output both SST and sea ice concentration\n",
    "add!(model_3, SpeedyWeather.OceanOutput()...)\n",
    "add!(model_3, SpeedyWeather.LandOutput()...)\n",
    "add!(model_3, SpeedyWeather.RadiationOutput()...)\n",
    "add!(model_3, SpeedyWeather.PrecipitationOutput()...)\n",
    "add!(model_3, SpeedyWeather.SurfaceFluxesOutput()...)\n",
    "add!(model_3, SpeedyWeather.AlbedoOutput())\n",
    "\n",
    "run!(simulation_3, period=Year(15), output=true)"
   ]
  },
  {
   "cell_type": "markdown",
   "id": "3aa61d0d",
   "metadata": {},
   "source": [
    "### Exp. III - Two Amazon's"
   ]
  },
  {
   "cell_type": "code",
   "execution_count": null,
   "id": "161c6e62",
   "metadata": {},
   "outputs": [],
   "source": [
    "output_4 = NetCDFOutput(spectral_grid, PrimitiveWetModel, path=\"/gws/nopw/j04/hrcm/naren/SpeedyWeather\", id=\"Veg_Amazon2_Exp\", output_dt=Hour(6))\n",
    "\n",
    "land_albedo_4 = AlbedoClimatology(spectral_grid; path=\"/home/users/naren047/Documents/SpeedyWeather/New_Input/\", file=\"albedo_amazon2_exp.nc\")\n",
    "albedo_4 = Albedo(ocean=OceanSeaIceAlbedo(spectral_grid), land = land_albedo_4)\n",
    "\n",
    "vegetation_4 = VegetationClimatology(spectral_grid; path=\"/home/users/naren047/Documents/SpeedyWeather/New_Input/\", file=\"vegetation_amazon2_exp.nc\")\n",
    "land_4 = LandModel(spectral_grid; vegetation = vegetation_4)\n",
    "\n",
    "## Continuation run\n",
    "initial_conditions_4 = StartFromFile(path=\"/gws/nopw/j04/hrcm/naren/SpeedyWeather\", id=\"Veg_Amazon2_Spinup\",run_number=3)   # or specify `path` kwarg if not in this folder\n",
    "\n",
    "model_4 = PrimitiveWetModel(spectral_grid; vertical_advection, initial_conditions = initial_conditions_4 , land = land_4, albedo = albedo_4, output = output_4)\n",
    "\n",
    "#model_4 = PrimitiveWetModel(spectral_grid; vertical_advection, land = land_4, albedo = albedo_4, output = output_4)\n",
    "simulation_4 = initialize!(model_4)\n",
    "\n",
    "# now offset via set! with add=true\n",
    "set!(albedo_4.land, (λ, φ) -> 0.1, add=true)\n",
    "\n",
    "# output both SST and sea ice concentration\n",
    "add!(model_4, SpeedyWeather.OceanOutput()...)\n",
    "add!(model_4, SpeedyWeather.LandOutput()...)\n",
    "add!(model_4, SpeedyWeather.RadiationOutput()...)\n",
    "add!(model_4, SpeedyWeather.PrecipitationOutput()...)\n",
    "add!(model_4, SpeedyWeather.SurfaceFluxesOutput()...)\n",
    "add!(model_4, SpeedyWeather.AlbedoOutput())\n",
    "\n",
    "#simulation_4.model.land.vegetation\n",
    "run!(simulation_4, period=Year(15), output=true)"
   ]
  }
 ],
 "metadata": {
  "kernelspec": {
   "display_name": "Julia 1.11.5",
   "language": "julia",
   "name": "julia-1.11"
  },
  "language_info": {
   "file_extension": ".jl",
   "mimetype": "application/julia",
   "name": "julia",
   "version": "1.11.5"
  }
 },
 "nbformat": 4,
 "nbformat_minor": 5
}
