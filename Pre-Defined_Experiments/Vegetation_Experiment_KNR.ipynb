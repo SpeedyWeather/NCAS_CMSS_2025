{
 "cells": [
  {
   "cell_type": "markdown",
   "id": "2f9b2edb-c775-4f58-aa71-4406f51ecba2",
   "metadata": {},
   "source": [
    "# 🌲🌲 Vegetation experiment 🌲🌲"
   ]
  },
  {
   "cell_type": "markdown",
   "id": "272219b4-7378-4d7f-96a5-8b734f77f260",
   "metadata": {},
   "source": [
    "### Originally created by Dr. Narender Reddy and Prof. Pier Luigi Vidale (NCAS, University of Reading)"
   ]
  },
  {
   "cell_type": "markdown",
   "id": "2395e8fa-9a14-49d5-a9b6-94ea396caa1e",
   "metadata": {},
   "source": [
    "## 🌎 🌳 Vegetation and its importance on land surafce\n",
    "Vegetataion has large impact on the Earth System climate. The vegetation can affect the climate by: \n",
    "\n",
    "- 🌞 impacting the albedo of the surface\n",
    "\n",
    "- 🌡️ altering the soil temperatures\n",
    "\n",
    "- 💧 altering the soil moisture\n",
    "\n",
    "- ⚡💦 altering the water and energy budget"
   ]
  },
  {
   "cell_type": "markdown",
   "id": "9b74f9a9-336b-4050-a75f-ce9de237028f",
   "metadata": {},
   "source": [
    "## 🎯 Objective\n",
    "To understand the impact of the largest vegetation on earth (the amazon forest) on various large scale earth and land surface processes."
   ]
  },
  {
   "cell_type": "markdown",
   "id": "da6d02ba-7bd2-4715-8761-31b64f4b4009",
   "metadata": {},
   "source": [
    "## 🐪🏝️🧪 Designing the experiment\n",
    "- What do we need to change to understand the impact of Amazon on the planet?\n",
    "\n",
    "🔸 🔄 Swapping Amazon and Sahara\n",
    "\n",
    "- What should we replace the Amamzon with, to extract the extreme impact of the Amazon forest?\n",
    "\n",
    "🔸 🌞🐪 Two Saharas\n",
    "\n",
    "🔸 🌧️🏝️ Two Amazones\n"
   ]
  },
  {
   "cell_type": "markdown",
   "id": "28eb1701-4315-4f21-89df-8886774de04f",
   "metadata": {},
   "source": [
    "## 🧠 💪 Hypothesise the impacts of removing the Amazon or replacing the forest with a different land type\n",
    "- Formulate testable hypotheses and evaluate them with simple diagnostics (using SpeedyWeather output)."
   ]
  },
  {
   "cell_type": "markdown",
   "id": "6e30b4e3-06d2-4ac7-86df-eecce4977874",
   "metadata": {},
   "source": [
    "## 🔬🧠 Guiding Questions\n",
    "\n",
    "**⚡⚖️ Energy balance:** \n",
    "- How does replacing forest with desert alter albedo and Bowen ratio? Where does the “lost/gained” energy go?\n",
    "\n",
    "**💧 Moisture recycling:** \n",
    "- What fraction of Amazon rainfall is recycled locally vs advected? How would making the Sahara forested change recycling efficiency?\n",
    "\n",
    "**➿📈 Non‑linearities:** \n",
    "- Do “Two Saharas” and “Two Amazons” produce responses that are symmetric opposites? If not, why?"
   ]
  },
  {
   "cell_type": "code",
   "execution_count": 3,
   "id": "8b54b748",
   "metadata": {},
   "outputs": [],
   "source": [
    "using SpeedyWeather\n",
    "using GeoMakie, CairoMakie\n",
    "using ProgressMeter\n",
    "using IJulia"
   ]
  },
  {
   "cell_type": "markdown",
   "id": "b558efda",
   "metadata": {},
   "source": [
    "### CTRL Experiment\n",
    "    - Using the climatological vegetation and albedo for running the SpeedyWeather"
   ]
  },
  {
   "cell_type": "code",
   "execution_count": 5,
   "id": "0503bc45",
   "metadata": {},
   "outputs": [
    {
     "name": "stderr",
     "output_type": "stream",
     "text": [
      "\u001b[32mWeather is speedy: run_Veg_CTRL_Exp_0001 100% Time: 0:02:46 (518.19 years/day)\u001b[39m\n"
     ]
    },
    {
     "data": {
      "text/plain": [
       "Simulation{PrimitiveWetModel}\n",
       "├ prognostic_variables::PrognosticVariables{...}\n",
       "├ diagnostic_variables::DiagnosticVariables{...}\n",
       "└ model::PrimitiveWetModel{...}"
      ]
     },
     "execution_count": 5,
     "metadata": {},
     "output_type": "execute_result"
    }
   ],
   "source": [
    "spectral_grid = SpectralGrid(trunc=31, nlayers=8)\n",
    "\n",
    "output = NetCDFOutput(spectral_grid, PrimitiveWetModel, path=\"./\", id=\"Veg_CTRL_Exp\", output_dt=Hour(6))\n",
    "\n",
    "vertical_advection = WENOVerticalAdvection(spectral_grid)\n",
    "\n",
    "# Setting the climatological albedo\n",
    "albedo = Albedo(ocean=OceanSeaIceAlbedo(spectral_grid), land=AlbedoClimatology(spectral_grid))\n",
    "\n",
    "## Continuation run\n",
    "# initial_conditions = StartFromFile(path=\"./\", id=\"Veg_CTRL_Spinup\",run_number=2)   # or specify `path` kwarg if not in this folder\n",
    "\n",
    "#model = PrimitiveWetModel(spectral_grid; vertical_advection, initial_conditions, albedo, output)\n",
    "model = PrimitiveWetModel(spectral_grid; vertical_advection, albedo, output)\n",
    "#add!(model, SpeedyWeather.AllOutputVariables()...)\n",
    "#\n",
    "#model = PrimitiveWetModel(spectral_grid; vertical_advection, albedo, output)\n",
    "simulation = initialize!(model)\n",
    "\n",
    "# first arg: what you want to initialize, 2nd: always model (read only)\n",
    "#initialize!(model.land, model)   # first arg: what you want to initialize, 2nd: always model (read only)\n",
    "\n",
    "# output both SST and sea ice concentration\n",
    "add!(model, SpeedyWeather.OceanOutput()...)\n",
    "add!(model, SpeedyWeather.LandOutput()...)\n",
    "add!(model, SpeedyWeather.RadiationOutput()...)\n",
    "add!(model, SpeedyWeather.PrecipitationOutput()...)\n",
    "add!(model, SpeedyWeather.SurfaceFluxesOutput()...)\n",
    "add!(model, SpeedyWeather.AlbedoOutput())\n",
    "\n",
    "# Finally, let us run the model\n",
    "run!(simulation, period=Year(1), output=true)"
   ]
  },
  {
   "cell_type": "markdown",
   "id": "7f34f1f7",
   "metadata": {},
   "source": [
    "### 🔄 Exp. I - Swapping Amazon and Sahara\n",
    "    - Swapping Amazon with Sahara (by changing the input vegetation and albedo files)"
   ]
  },
  {
   "cell_type": "code",
   "execution_count": 6,
   "id": "3179e8dd",
   "metadata": {},
   "outputs": [
    {
     "name": "stderr",
     "output_type": "stream",
     "text": [
      "\u001b[32mWeather is speedy: run_Veg_Swap_Exp_0001 100% Time: 0:02:48 (514.10 years/day)\u001b[39m\n"
     ]
    },
    {
     "data": {
      "text/plain": [
       "Simulation{PrimitiveWetModel}\n",
       "├ prognostic_variables::PrognosticVariables{...}\n",
       "├ diagnostic_variables::DiagnosticVariables{...}\n",
       "└ model::PrimitiveWetModel{...}"
      ]
     },
     "execution_count": 6,
     "metadata": {},
     "output_type": "execute_result"
    }
   ],
   "source": [
    "output_2 = NetCDFOutput(spectral_grid, PrimitiveWetModel, path=\"./\", id=\"Veg_Swap_Exp\", output_dt=Hour(6))\n",
    "\n",
    "land_albedo_2 = AlbedoClimatology(spectral_grid; path=\"./\", file=\"albedo_swap_exp.nc\")\n",
    "albedo_2 = Albedo(ocean=OceanSeaIceAlbedo(spectral_grid), land=land_albedo_2)\n",
    "\n",
    "vegetation_2 = VegetationClimatology(spectral_grid; path=\"./\", file=\"vegetation_swap_exp.nc\")\n",
    "land_2 = LandModel(spectral_grid; vegetation = vegetation_2)\n",
    "\n",
    "## Continuation run\n",
    "#initial_conditions_2 = StartFromFile(path=\"/gws/nopw/j04/hrcm/naren/SpeedyWeather\", id=\"Veg_Swap_Spinup\",run_number=2)   # or specify `path` kwarg if not in this folder\n",
    "\n",
    "#model_2 = PrimitiveWetModel(spectral_grid; vertical_advection, initial_conditions = initial_conditions_2 , land = land_2, albedo = albedo_2, output = output_2)\n",
    "model_2 = PrimitiveWetModel(spectral_grid; vertical_advection, land = land_2, albedo = albedo_2, output = output_2)\n",
    "\n",
    "simulation_2 = initialize!(model_2)\n",
    "\n",
    "# now offset via set! with add=true\n",
    "set!(albedo_2.land, (λ, φ) -> 0.1, add=true)\n",
    "\n",
    "# output both SST and sea ice concentration\n",
    "add!(model_2, SpeedyWeather.OceanOutput()...)\n",
    "add!(model_2, SpeedyWeather.LandOutput()...)\n",
    "add!(model_2, SpeedyWeather.RadiationOutput()...)\n",
    "add!(model_2, SpeedyWeather.PrecipitationOutput()...)\n",
    "add!(model_2, SpeedyWeather.SurfaceFluxesOutput()...)\n",
    "add!(model_2, SpeedyWeather.AlbedoOutput())\n",
    "\n",
    "#initialize!(model_2.land, model_2)\n",
    "\n",
    "# Finally, let us run the model\n",
    "run!(simulation_2, period=Year(1), output=true)"
   ]
  },
  {
   "cell_type": "markdown",
   "id": "4c950730",
   "metadata": {},
   "source": [
    "### 🌞🐪 Exp. II - Two Saharas\n",
    "    - Removing Amazon and replacing it with a desert (In effect earth will have two Saharas)"
   ]
  },
  {
   "cell_type": "code",
   "execution_count": 7,
   "id": "ea24c3d9",
   "metadata": {},
   "outputs": [
    {
     "name": "stderr",
     "output_type": "stream",
     "text": [
      "\u001b[32mWeather is speedy: run_Veg_Sahara2_Exp_0001 100% Time: 1:08:43 (314.26 years/day)\u001b[39m\n"
     ]
    },
    {
     "data": {
      "text/plain": [
       "Simulation{PrimitiveWetModel}\n",
       "├ prognostic_variables::PrognosticVariables{...}\n",
       "├ diagnostic_variables::DiagnosticVariables{...}\n",
       "└ model::PrimitiveWetModel{...}"
      ]
     },
     "execution_count": 7,
     "metadata": {},
     "output_type": "execute_result"
    }
   ],
   "source": [
    "output_3 = NetCDFOutput(spectral_grid, PrimitiveWetModel, path=\"./\", id=\"Veg_Sahara2_Exp\", output_dt=Hour(6))\n",
    "\n",
    "land_albedo_3 = AlbedoClimatology(spectral_grid; path=\"./\", file=\"albedo_sahara2_exp.nc\")\n",
    "albedo_3 = Albedo(ocean=OceanSeaIceAlbedo(spectral_grid), land = land_albedo_3)\n",
    "\n",
    "vegetation_3 = VegetationClimatology(spectral_grid; path=\"./\", file=\"vegetation_sahara2_exp.nc\")\n",
    "land_3 = LandModel(spectral_grid; vegetation = vegetation_3)\n",
    "\n",
    "## Continuation run\n",
    "#initial_conditions_3 = StartFromFile(path=\"/gws/nopw/j04/hrcm/naren/SpeedyWeather\", id=\"Veg_Sahara2_Spinup\",run_number=2)   # or specify `path` kwarg if not in this folder\n",
    "\n",
    "#model_3 = PrimitiveWetModel(spectral_grid; vertical_advection, initial_conditions = initial_conditions_3, land = land_3, albedo = albedo_3, output = output_3)\n",
    "model_3 = PrimitiveWetModel(spectral_grid; vertical_advection, land = land_3, albedo = albedo_3, output = output_3)\n",
    "\n",
    "#model_3 = PrimitiveWetModel(spectral_grid; vertical_advection, land = land_3, albedo = albedo_3, output = output_3)\n",
    "simulation_3 = initialize!(model_3)\n",
    "\n",
    "# now offset via set! with add=true\n",
    "set!(albedo_3.land, (λ, φ) -> 0.1, add=true)\n",
    "\n",
    "# output both SST and sea ice concentration\n",
    "add!(model_3, SpeedyWeather.OceanOutput()...)\n",
    "add!(model_3, SpeedyWeather.LandOutput()...)\n",
    "add!(model_3, SpeedyWeather.RadiationOutput()...)\n",
    "add!(model_3, SpeedyWeather.PrecipitationOutput()...)\n",
    "add!(model_3, SpeedyWeather.SurfaceFluxesOutput()...)\n",
    "add!(model_3, SpeedyWeather.AlbedoOutput())\n",
    "\n",
    "run!(simulation_3, period=Year(15), output=true)"
   ]
  },
  {
   "cell_type": "markdown",
   "id": "3aa61d0d",
   "metadata": {},
   "source": [
    "### 🌧️🏝️ Exp. III - Two Amazons\n",
    "    - Replacing the largest desert (Sahara) with the Amazon.  "
   ]
  },
  {
   "cell_type": "code",
   "execution_count": 8,
   "id": "161c6e62",
   "metadata": {},
   "outputs": [
    {
     "name": "stderr",
     "output_type": "stream",
     "text": [
      "\u001b[32mWeather is speedy: run_Veg_Amazon2_Exp_0001 100% Time: 0:44:28 (485.71 years/day)\u001b[39m\n"
     ]
    },
    {
     "data": {
      "text/plain": [
       "Simulation{PrimitiveWetModel}\n",
       "├ prognostic_variables::PrognosticVariables{...}\n",
       "├ diagnostic_variables::DiagnosticVariables{...}\n",
       "└ model::PrimitiveWetModel{...}"
      ]
     },
     "execution_count": 8,
     "metadata": {},
     "output_type": "execute_result"
    }
   ],
   "source": [
    "output_4 = NetCDFOutput(spectral_grid, PrimitiveWetModel, path=\"./\", id=\"Veg_Amazon2_Exp\", output_dt=Hour(6))\n",
    "\n",
    "land_albedo_4 = AlbedoClimatology(spectral_grid; path=\"./\", file=\"albedo_amazon2_exp.nc\")\n",
    "albedo_4 = Albedo(ocean=OceanSeaIceAlbedo(spectral_grid), land = land_albedo_4)\n",
    "\n",
    "vegetation_4 = VegetationClimatology(spectral_grid; path=\"./\", file=\"vegetation_amazon2_exp.nc\")\n",
    "land_4 = LandModel(spectral_grid; vegetation = vegetation_4)\n",
    "\n",
    "## Continuation run\n",
    "#initial_conditions_4 = StartFromFile(path=\"/gws/nopw/j04/hrcm/naren/SpeedyWeather\", id=\"Veg_Amazon2_Spinup\",run_number=3)   # or specify `path` kwarg if not in this folder\n",
    "\n",
    "#model_4 = PrimitiveWetModel(spectral_grid; vertical_advection, initial_conditions = initial_conditions_4 , land = land_4, albedo = albedo_4, output = output_4)\n",
    "model_4 = PrimitiveWetModel(spectral_grid; vertical_advection, land = land_4, albedo = albedo_4, output = output_4)\n",
    "\n",
    "#model_4 = PrimitiveWetModel(spectral_grid; vertical_advection, land = land_4, albedo = albedo_4, output = output_4)\n",
    "simulation_4 = initialize!(model_4)\n",
    "\n",
    "# now offset via set! with add=true\n",
    "set!(albedo_4.land, (λ, φ) -> 0.1, add=true)\n",
    "\n",
    "# output both SST and sea ice concentration\n",
    "add!(model_4, SpeedyWeather.OceanOutput()...)\n",
    "add!(model_4, SpeedyWeather.LandOutput()...)\n",
    "add!(model_4, SpeedyWeather.RadiationOutput()...)\n",
    "add!(model_4, SpeedyWeather.PrecipitationOutput()...)\n",
    "add!(model_4, SpeedyWeather.SurfaceFluxesOutput()...)\n",
    "add!(model_4, SpeedyWeather.AlbedoOutput())\n",
    "\n",
    "#simulation_4.model.land.vegetation\n",
    "run!(simulation_4, period=Year(15), output=true)"
   ]
  },
  {
   "cell_type": "markdown",
   "id": "96ba3787-a8be-48a3-ae27-21a366431df9",
   "metadata": {},
   "source": [
    "## 🤔❓ How does the hypothesis hold at the end of the experiments?\n",
    "\n",
    "- Are the resuls inline with your hypothesis? If Yes, what are the processes driving it? If No, what processess are missing in the current model?\n"
   ]
  },
  {
   "cell_type": "code",
   "execution_count": null,
   "id": "d7a73066-d734-4ff8-9989-5410b84b6b7d",
   "metadata": {},
   "outputs": [],
   "source": []
  }
 ],
 "metadata": {
  "kernelspec": {
   "display_name": "Julia 1.11.6",
   "language": "julia",
   "name": "julia-1.11"
  },
  "language_info": {
   "file_extension": ".jl",
   "mimetype": "application/julia",
   "name": "julia",
   "version": "1.11.6"
  }
 },
 "nbformat": 4,
 "nbformat_minor": 5
}
