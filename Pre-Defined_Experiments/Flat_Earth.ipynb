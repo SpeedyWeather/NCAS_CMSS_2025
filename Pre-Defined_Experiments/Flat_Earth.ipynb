{
 "cells": [
  {
   "cell_type": "markdown",
   "id": "3138eff6-2a57-4e25-96db-5f1d89cf0ffe",
   "metadata": {},
   "source": [
    "# Flat Earth Experiment"
   ]
  },
  {
   "cell_type": "markdown",
   "id": "cbc726b5-8ca7-4761-a5a7-6ea778355013",
   "metadata": {},
   "source": [
    "#### Torsten Auerswald (NCAS, University of Reading)"
   ]
  },
  {
   "cell_type": "markdown",
   "id": "d30803d3-d23d-4b08-b65c-00fc8cd8d1d3",
   "metadata": {},
   "source": [
    "## Motivation\n",
    "In this experiment, you will be using SpeedyWeather to\n",
    "investigate the influence of continents, and especially large mountains, on the global circulation of\n",
    "the atmosphere. You will use this model to investigate the role of mountains for the general\n",
    "circulation and climate on Earth."
   ]
  },
  {
   "cell_type": "markdown",
   "id": "eaa6e21b-2c7c-4e3a-b0e1-f76ca55bea15",
   "metadata": {},
   "source": [
    "## Experiment\n",
    "This notebook is for running SpeedyWeather with and without orography. To run the control run comment this line out:\n",
    "\n",
    "`orography=NoOrography(spectral_grid)`\n",
    "\n",
    "Conduct both simulations (control run and flat earth experiment) and remember to change the run id in each simulation. After the simulations have finished you can use the notebook \"Flat_Earth_analysis.ipynb\" to have a first look at the data and get some ideas for further analysis."
   ]
  },
  {
   "cell_type": "markdown",
   "id": "986cba19-bd1b-42ae-9251-02c8d19ec63e",
   "metadata": {},
   "source": [
    "## Guiding questions\n",
    " - How does the midlatitude circulation change in the flat earth experiment? Have a look at surface pressure, and geopotential height and winds at different levels.\n",
    " - What is the role of topography over East Africa and the Tibetan Plateau?\n",
    " - Do the meridional atmospheric transports of heat and moisture change?"
   ]
  },
  {
   "cell_type": "markdown",
   "id": "e95f1315-0daa-49ef-83f3-df3bd61d1d90",
   "metadata": {},
   "source": [
    "## Further Reading\n",
    "For more details on the theoretical background and literature have a look at the lab notes for this experiment in \"Flat_Earth_Labnotes.pdf\""
   ]
  },
  {
   "cell_type": "code",
   "execution_count": 3,
   "id": "e33e0290-6818-43be-8ed8-f37601346dd6",
   "metadata": {},
   "outputs": [],
   "source": [
    "using Pkg"
   ]
  },
  {
   "cell_type": "code",
   "execution_count": 4,
   "id": "80f5e593-1447-4b4a-9f81-2f5ae61b395c",
   "metadata": {
    "scrolled": true
   },
   "outputs": [
    {
     "name": "stdout",
     "output_type": "stream",
     "text": [
      "\u001b[32m\u001b[1mStatus\u001b[22m\u001b[39m `~/.julia/environments/v1.11/Project.toml`\n",
      "  \u001b[90m[9e226e20] \u001b[39mSpeedyWeather v0.16.0 `~/.julia/dev/SpeedyWeather`\n"
     ]
    }
   ],
   "source": [
    "Pkg.status(\"SpeedyWeather\")"
   ]
  },
  {
   "cell_type": "code",
   "execution_count": null,
   "id": "03a489c9-83ac-4d46-a658-f5459df01ff7",
   "metadata": {},
   "outputs": [],
   "source": [
    "#Use this only to update to a new version of SpeedyWeather\n",
    "#Main release\n",
    "#Pkg.add(\"SpeedyWeather\")\n",
    "#Developer version\n",
    "#Pkg.develop(\"SpeedyWeather\")"
   ]
  },
  {
   "cell_type": "code",
   "execution_count": null,
   "id": "ddd73973-d5bf-4193-af5e-540078b4aa21",
   "metadata": {},
   "outputs": [],
   "source": [
    "using SpeedyWeather\n",
    "# Define grid\n",
    "spectral_grid = SpectralGrid(trunc=31, nlayers=8)\n",
    "# Define output. Change the id for the control run and the flat earth run\n",
    "output = NetCDFOutput(spectral_grid, PrimitiveWetModel, path=\"./\", id=\"Flat_Earth\", output_dt=Minute(360))\n",
    "\n"
   ]
  },
  {
   "cell_type": "code",
   "execution_count": null,
   "id": "781322f1-6f77-42c4-b5fe-d2f65a7330b7",
   "metadata": {},
   "outputs": [],
   "source": [
    "# Some parameterisation choices\n",
    "vertical_advection = WENOVerticalAdvection(spectral_grid)\n",
    "\n",
    "#Define albedo\n",
    "albedo = Albedo(ocean=OceanSeaIceAlbedo(spectral_grid), land=AlbedoClimatology(spectral_grid))\n"
   ]
  },
  {
   "cell_type": "code",
   "execution_count": null,
   "id": "22ccf47c-af36-4aac-9346-dcf6cb255a45",
   "metadata": {},
   "outputs": [],
   "source": [
    "# Remove orography\n",
    "# Comment this out to run with orography\n",
    "orography=NoOrography(spectral_grid)"
   ]
  },
  {
   "cell_type": "code",
   "execution_count": null,
   "id": "d53be64d-36b5-48c0-ac17-36e534bf4b43",
   "metadata": {},
   "outputs": [],
   "source": [
    "### Set up the model to run from scratch\n",
    "model = PrimitiveWetModel(spectral_grid; orography,vertical_advection, albedo, output)"
   ]
  },
  {
   "cell_type": "code",
   "execution_count": null,
   "id": "c367aac2-3e80-49f0-94aa-a2411de96ec1",
   "metadata": {},
   "outputs": [],
   "source": [
    "simulation = initialize!(model)\n",
    "# now offset via set! with add=true\n",
    "set!(albedo.land, (λ, φ) -> 0.1, add=true)\n",
    "\n",
    "# Add output variables\n",
    "add!(model, SpeedyWeather.OceanOutput()...)\n",
    "add!(model, SpeedyWeather.LandOutput()...)\n",
    "add!(model, SpeedyWeather.RadiationOutput()...)\n",
    "add!(model, SpeedyWeather.PrecipitationOutput()...)\n",
    "add!(model, SpeedyWeather.SurfaceFluxesOutput()...)\n",
    "#This adds orography variable to output\n",
    "add!(model, SpeedyWeather.BoundaryOutput()...)\n",
    "\n"
   ]
  },
  {
   "cell_type": "code",
   "execution_count": null,
   "id": "5bc923d7-d712-4cc4-ac2d-cc4595d76fba",
   "metadata": {},
   "outputs": [],
   "source": [
    "#Check model settings\n",
    "model"
   ]
  },
  {
   "cell_type": "code",
   "execution_count": null,
   "id": "9734441b-feba-4248-9841-2831371c043d",
   "metadata": {},
   "outputs": [],
   "source": [
    "#Plot orography to make sure we set it to zero\n",
    "using CairoMakie\n",
    "heatmap(orography.orography)"
   ]
  },
  {
   "cell_type": "code",
   "execution_count": 12,
   "id": "4b6a66a4-319d-4e5b-a1a0-866872c0f67e",
   "metadata": {},
   "outputs": [
    {
     "name": "stderr",
     "output_type": "stream",
     "text": [
      "\u001b[32mWeather is speedy: run_Flat_Earth_SeaIce_0001 100% Time: 1:07:24 (640.86 years/day)\u001b[39m\n"
     ]
    },
    {
     "data": {
      "text/plain": [
       "Simulation{PrimitiveWetModel}\n",
       "├ prognostic_variables::PrognosticVariables{...}\n",
       "├ diagnostic_variables::DiagnosticVariables{...}\n",
       "└ model::PrimitiveWetModel{...}"
      ]
     },
     "execution_count": 12,
     "metadata": {},
     "output_type": "execute_result"
    }
   ],
   "source": [
    "run!(simulation, period=Year(30), output=true)"
   ]
  }
 ],
 "metadata": {
  "kernelspec": {
   "display_name": "Julia 1.11.6",
   "language": "julia",
   "name": "julia-1.11"
  },
  "language_info": {
   "file_extension": ".jl",
   "mimetype": "application/julia",
   "name": "julia",
   "version": "1.11.6"
  }
 },
 "nbformat": 4,
 "nbformat_minor": 5
}
