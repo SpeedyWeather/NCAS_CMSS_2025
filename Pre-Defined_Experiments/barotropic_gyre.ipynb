{
 "cells": [
  {
   "cell_type": "markdown",
   "id": "2f7ea179-f9bb-4b20-bdf6-9bda6353db59",
   "metadata": {},
   "source": [
    "# Barotropic/clinic gyre simulation with Oceananigans.jl"
   ]
  },
  {
   "cell_type": "markdown",
   "id": "dbd06e9e-d15b-4f2c-83ae-e09628a86d8d",
   "metadata": {},
   "source": [
    "credits to *Simone Silvestri* and everyone else from the Oceananigans team!\n",
    "\n",
    "The notebook uses\n",
    "- Oceananigans v0.98\n",
    "- Julia 1.10 (not 1.11!)"
   ]
  },
  {
   "cell_type": "markdown",
   "id": "781aa6af-6af7-4ca4-899e-8769686bea7a",
   "metadata": {},
   "source": [
    "### Installation instructions"
   ]
  },
  {
   "cell_type": "markdown",
   "id": "b2882a4c-63e4-4c55-bc3c-e3fd4c99212c",
   "metadata": {},
   "source": [
    "To install a Jupyter kernel for Julia 1.10"
   ]
  },
  {
   "cell_type": "markdown",
   "id": "4c6ad06d-4b36-4883-9533-8c2523d2118f",
   "metadata": {},
   "source": [
    "```julia\n",
    "using Pkg\n",
    "Pkg.add(\"IJulia\")\n",
    "using IJulia\n",
    "installkernel(\"Julia\")\n",
    "\n",
    "```\n",
    "\n",
    "then in Jupyter change kernel to \"Julia 1.10.10\" (v1.10 with current patch version 10).\n",
    "Packages required\n",
    "\n",
    "```julia\n",
    "using Pkg\n",
    "Pkg.add(\"Oceananigans\")   # the ocean model\n",
    "Pkg.add(\"GLMakie\")        # for visualisation (let's make a video!)\n",
    "Pkg.add(\"JLD2\")           # for data output (alternative to netCDF)\n",
    "```\n",
    "\n",
    "then you are ready to run this notebook!\n"
   ]
  },
  {
   "cell_type": "code",
   "execution_count": null,
   "id": "6639146e-a688-447e-a096-ade15b97bd72",
   "metadata": {},
   "outputs": [],
   "source": [
    "using Oceananigans"
   ]
  },
  {
   "cell_type": "code",
   "execution_count": null,
   "id": "171a289f-80e1-4710-bb27-f0a2cf7df4e1",
   "metadata": {},
   "outputs": [],
   "source": [
    "using Oceananigans.Grids\n",
    "using Oceananigans.Advection: EnergyConserving, EnstrophyConserving\n",
    "using Oceananigans.Units\n",
    "using Statistics\n",
    "using Printf"
   ]
  },
  {
   "cell_type": "markdown",
   "id": "3fe89b1e-6cb8-45f2-9636-aaef02cf0538",
   "metadata": {},
   "source": [
    "# Problem: Wind-driven upper ocean circulation in the North Atlantic"
   ]
  },
  {
   "cell_type": "markdown",
   "id": "7fe443a1-68db-49c1-b7cd-d39a53aee1b3",
   "metadata": {},
   "source": [
    "From the Oceananigns [documentation](https://clima.github.io/OceananigansDocumentation/stable/physics/hydrostatic_free_surface_model/): Let's use the hydrostatic equations\n",
    "\n",
    "$$\n",
    "\\begin{align}\n",
    "\\partial_t \\boldsymbol{u} & = - \\left ( \\boldsymbol{u} \\boldsymbol{\\cdot} \\boldsymbol{\\nabla} \\right ) \\boldsymbol{u}\n",
    "                        - \\boldsymbol{f} \\times \\boldsymbol{u}\n",
    "                        - \\boldsymbol{\\nabla}_h (p + g \\eta)\n",
    "                        - \\boldsymbol{\\nabla} \\boldsymbol{\\cdot} \\boldsymbol{\\tau}\n",
    "                        + \\boldsymbol{F_u} \\\\\n",
    "0 & = b - \\partial_z p \\\\\n",
    "\\partial_t \\eta &= w(x, y, z=0, t) \\\\\n",
    "0 &= \\boldsymbol{\\nabla}_h \\boldsymbol{\\cdot} \\boldsymbol{u} + \\partial_z w \\\\\n",
    "\\end{align}\n",
    "$$\n",
    "\n",
    "where $b$ the is buoyancy, $\\boldsymbol{\\tau}$ is the hydrostatic kinematic stress tensor,\n",
    "$\\boldsymbol{F_u}$ denotes an internal forcing of the horizontal flow $\\boldsymbol{u}$,\n",
    "$\\boldsymbol{v} = \\boldsymbol{u} + w \\hat{\\boldsymbol{z}}$ is the three-dimensional flow,\n",
    "$p$ is kinematic pressure, $\\eta$ is the free-surface displacement, and $\\boldsymbol{f}$\n",
    "is the *Coriolis parameter*, or the background vorticity associated with the specified rate of\n",
    "rotation of the frame of reference.\n",
    "\n",
    "We want to solve this in a rectangular box (for simplicity) centred on the North Atlantic, something like this\n",
    "\n",
    "(reference to videos shown in presentation)\n",
    "\n",
    "with the windstress $\\boldsymbol{F_u}$ blowing east to west in the tropics (easterlies) and west to east in mid-latitudes (westerlies)."
   ]
  },
  {
   "cell_type": "markdown",
   "id": "a6168f8b-4330-487d-922b-3af9b8ee7aee",
   "metadata": {},
   "source": [
    "# 1. Define the grid\n",
    "\n",
    "A 60˚x60˚ box in the North Atlantic, 4000m deep"
   ]
  },
  {
   "cell_type": "code",
   "execution_count": null,
   "id": "7f8ff0a1-6a45-4368-bf90-ba2fdd772174",
   "metadata": {},
   "outputs": [],
   "source": [
    "Nx = 60\n",
    "Ny = 60\n",
    "\n",
    "grid = LatitudeLongitudeGrid(\n",
    "    size = (Nx, Ny, 1),\n",
    "    longitude = (-30, 30),\n",
    "    latitude = (15, 75),\n",
    "    z = (-500, 0))"
   ]
  },
  {
   "cell_type": "markdown",
   "id": "025fe6eb-6329-489e-89d3-3c6289232b1b",
   "metadata": {},
   "source": [
    "Note that we solve the equations in spherical coordinates. This also means that the grid cells get smaller towards to poles. \n",
    "- Why do we choose a 500m vs e.g. a 4000m deep ocean? What happens if you choose a shallower ocean?\n",
    "- As an experiment you can move the box over the Equator and see how the simulated dynamics change if you do\n",
    "- Are there any problems if we move the box closer to the pole?\n",
    "- What dynamics do we resolve with only one vertical layer ($Nz = 1$) and why does it depend on gravity?"
   ]
  },
  {
   "cell_type": "markdown",
   "id": "3dbe94f8-8f56-4c38-8bea-a6df9eebccaf",
   "metadata": {},
   "source": [
    "# 2. Define model components"
   ]
  },
  {
   "cell_type": "markdown",
   "id": "64c40416-c5b4-4cbc-8798-2ca9a062dc6b",
   "metadata": {},
   "source": [
    "The free-surface equation for $\\eta$ is solved implicitly, allowing for larger time steps and more stability than solving those explicitly. We choose gravity $g$ (m/s) here."
   ]
  },
  {
   "cell_type": "code",
   "execution_count": null,
   "id": "d83a836b-5598-46c5-b250-f6594b2b65da",
   "metadata": {},
   "outputs": [],
   "source": [
    "free_surface = ImplicitFreeSurface(gravitational_acceleration=10)\n",
    "coriolis = HydrostaticSphericalCoriolis(scheme = EnstrophyConserving())"
   ]
  },
  {
   "cell_type": "markdown",
   "id": "ea2dda9c-5a30-4a22-9fac-d7160378ecc7",
   "metadata": {},
   "source": [
    "And the Coriolis parameter depends on the rotation rate of planet Earth. \n",
    "- Why do we choose a gravity here that is not 9.81 m/s? And why does that make the dynamics barotropic or baroclinic?\n",
    "- What is the wave speed of surface gravity waves including Kelvin waves?\n",
    "- How do you expect the simulated dynamics to change if you increase/decrease the rotation rate, set it to zero or let the planet spin the other way around?"
   ]
  },
  {
   "cell_type": "markdown",
   "id": "2a0748a3-562c-4197-9a30-a4487c001b41",
   "metadata": {},
   "source": [
    "### Forcing: Zonal wind stress"
   ]
  },
  {
   "cell_type": "code",
   "execution_count": null,
   "id": "df5e9fa1-82ae-4251-8dd9-21a082bc13cb",
   "metadata": {},
   "outputs": [],
   "source": [
    "ρ = 1000    # kg/m^3\n",
    "τ = 0.2     # N/m^2\n",
    "\n",
    "@show surface_wind_stress_parameters = (τ₀ = τ/ρ,\n",
    "                                        Lφ = grid.Ly,\n",
    "                                        φ₀ = 15)\n",
    "\n",
    "@inline surface_wind_stress(λ, φ, t, p) = p.τ₀ * cos(2π * (φ - p.φ₀) / p.Lφ)\n",
    "\n",
    "surface_wind_stress_bc = FluxBoundaryCondition(surface_wind_stress,\n",
    "                                               parameters = surface_wind_stress_parameters)"
   ]
  },
  {
   "cell_type": "markdown",
   "id": "859ba937-377d-4808-a208-a897460ba2f0",
   "metadata": {},
   "source": [
    "- You could let the wind blow in the opposite direction, is that equivalent to spinning the planet the other way around?\n",
    "- Which part of the dynamics move northward or southward if you change the inflecting point of the cos, controlled here with `φ₀ = 15`?"
   ]
  },
  {
   "cell_type": "markdown",
   "id": "966cbbd2-8da8-4a99-ace4-0035a02fccf4",
   "metadata": {},
   "source": [
    "### Bottom drag"
   ]
  },
  {
   "cell_type": "markdown",
   "id": "e468a000-0f25-4244-bf53-6e9b8bb910ee",
   "metadata": {},
   "source": [
    "The hydrostatic equations stated above do not have a drag term but here we need to add one in order to have a sink of energy. The wind is continously putting energy into the system (question: always, everywhere?) that energy needs to go somewhere to prevent numerical instabilities from too high velocities. So we add here the following linear drag terms\n",
    "\n",
    "$$\n",
    "\\begin{align}\n",
    "\\partial_t u &= ... - \\mu u \\\\\n",
    "\\partial_t v &= ... - \\mu v\n",
    "\\end{align}\n",
    "$$\n",
    "\n",
    "- What happens if you make the linear drag stronger or weaker, what currents are you expecting for a very strong drag?\n",
    "- What process do these drag terms represent in the real ocean?\n",
    "- Can you think of a reason why one would want to have a quadratic drag?\n"
   ]
  },
  {
   "cell_type": "code",
   "execution_count": null,
   "id": "3c3ae084-44a8-4ac9-8a15-7b0005c25abe",
   "metadata": {},
   "outputs": [],
   "source": [
    "μ = 1 / 10days\n",
    "@inline u_bottom_drag(i, j, grid, clock, fields, μ) = @inbounds - μ * fields.u[i, j, 1]\n",
    "@inline v_bottom_drag(i, j, grid, clock, fields, μ) = @inbounds - μ * fields.v[i, j, 1]\n",
    "\n",
    "u_bottom_drag_bc = FluxBoundaryCondition(u_bottom_drag,\n",
    "                                         discrete_form = true,\n",
    "                                         parameters = μ)\n",
    "\n",
    "v_bottom_drag_bc = FluxBoundaryCondition(v_bottom_drag,\n",
    "                                         discrete_form = true,\n",
    "                                         parameters = μ)\n",
    "\n",
    "u_bcs = FieldBoundaryConditions(top = surface_wind_stress_bc,\n",
    "                                bottom = u_bottom_drag_bc)\n",
    "\n",
    "v_bcs = FieldBoundaryConditions(bottom = v_bottom_drag_bc)"
   ]
  },
  {
   "cell_type": "markdown",
   "id": "ac08f464-0266-4d3a-bb2c-7d80208bc3ec",
   "metadata": {},
   "source": [
    "### Diffusivity"
   ]
  },
  {
   "cell_type": "markdown",
   "id": "2d82dcb2-9aa3-4d8a-bde5-020275d3e79b",
   "metadata": {},
   "source": [
    "Drag is not the only sink of energy in this system. For mostly numerical reasons we also need to introduce diffusivity in order to control a cascade of energy towards smaller scales that should not pile up at the grid scale as in reality this cascae would continue towards molecular viscosity. This takes a form of a Laplacian\n",
    "\n",
    "$$\n",
    "\\begin{align}\n",
    "\\partial_t \\mathbf{u} &= ... + \\nabla \\cdot \\nabla (\\nu \\mathbf{u})\n",
    "\\end{align}\n",
    "$$\n",
    "\n",
    "\n",
    "- Look up the viscosity of water, how large is the diffusivity chosen here in comparison?\n",
    "- And so why would we use the terms \"viscosity\" and \"diffusivity\" interchangeably or not?\n",
    "- Is the resulting forcing up or down the gradient of velocity?"
   ]
  },
  {
   "cell_type": "code",
   "execution_count": null,
   "id": "5d478369-d380-4ab0-9dea-d823506605ef",
   "metadata": {},
   "outputs": [],
   "source": [
    "νh₀ = 5e3 * (60 / grid.Nx)^2\n",
    "constant_horizontal_diffusivity = HorizontalScalarDiffusivity(ν = νh₀)"
   ]
  },
  {
   "cell_type": "markdown",
   "id": "0acb1850-098a-4971-9986-660f6e59cbdb",
   "metadata": {},
   "source": [
    "# 3. Construct a HydrostaticFreeSurfaceModel"
   ]
  },
  {
   "cell_type": "markdown",
   "id": "77cfd745-61b5-40de-96af-fb8e42afbcaf",
   "metadata": {},
   "source": [
    "Now we pass on all model components to the `HydrostaticFreeSurfaceModel` and set the ones we want to disable to `nothing`"
   ]
  },
  {
   "cell_type": "code",
   "execution_count": null,
   "id": "de5a5b29-23ff-4ce5-8dc3-540c377e74db",
   "metadata": {},
   "outputs": [],
   "source": [
    "model = HydrostaticFreeSurfaceModel(; grid, free_surface, coriolis,\n",
    "                                    momentum_advection = VectorInvariant(),\n",
    "                                    boundary_conditions = (u=u_bcs, v=v_bcs),\n",
    "                                    closure = constant_horizontal_diffusivity,\n",
    "                                    tracers = nothing,\n",
    "                                    buoyancy = nothing)"
   ]
  },
  {
   "cell_type": "markdown",
   "id": "0ae3235a-097a-49e7-b05c-e4c5905955fc",
   "metadata": {},
   "source": [
    "### Choosing a time step\n",
    "\n",
    "It remains important to choose a time step for the simulation, we will orient ourselves following the wave speed of gravity waves $\\sqrt{gH}$. The free-surface solver is implicit so we can use a Courant-Friedrichs-Levy (CFL) condition of larger than 1 but should still roughly scale it with that"
   ]
  },
  {
   "cell_type": "code",
   "execution_count": null,
   "id": "d5d2b516-ac24-4fac-97ae-ff9d2de2b50a",
   "metadata": {},
   "outputs": [],
   "source": [
    "g = model.free_surface.gravitational_acceleration\n",
    "gravity_wave_speed = sqrt(g * grid.Lz) # hydrostatic (shallow water) gravity wave speed\n",
    "\n",
    "# Time-scale for gravity wave propagation across the smallest grid cell\n",
    "wave_propagation_time_scale = min(grid.radius * cosd(maximum(abs, grid.φᵃᶜᵃ)) * deg2rad(grid.Δλᶜᵃᵃ),\n",
    "                                  grid.radius * deg2rad(grid.Δφᵃᶜᵃ)) / gravity_wave_speed"
   ]
  },
  {
   "cell_type": "markdown",
   "id": "5cac3552-bd55-45c0-a267-19a0b3168155",
   "metadata": {},
   "source": [
    "And so here we decide to take a timestep that is almost 3x as large\n",
    "- try how much larger you can make the time step before the simulation blows up\n",
    "- what is the disadvantage of choosing a smaller time step?\n",
    "\n",
    "Now we wrap our model into a simulation, and decide on the time step and the `stop_time` how long to integrate for"
   ]
  },
  {
   "cell_type": "code",
   "execution_count": null,
   "id": "1f89b44e-a955-41af-9a09-b84e045fa119",
   "metadata": {},
   "outputs": [],
   "source": [
    "simulation = Simulation(model,\n",
    "                        Δt = 1200,\n",
    "                        stop_time = 365days)"
   ]
  },
  {
   "cell_type": "markdown",
   "id": "612bb345-ef2f-4e65-aba3-35bc5c3ef6de",
   "metadata": {},
   "source": [
    "### Defining some feedback and output"
   ]
  },
  {
   "cell_type": "markdown",
   "id": "08be02a0-cca0-4523-b4c5-ecd4217b8d77",
   "metadata": {},
   "source": [
    "The following is to obtain some information about the simulation while it's running and define output"
   ]
  },
  {
   "cell_type": "code",
   "execution_count": null,
   "id": "62507b9e-3830-42d2-9bf7-687752bd036f",
   "metadata": {},
   "outputs": [],
   "source": [
    "mutable struct Progress\n",
    "    interval_start_time :: Float64\n",
    "end\n",
    "\n",
    "function (p::Progress)(sim)\n",
    "    wall_time = (time_ns() - p.interval_start_time) * 1e-9\n",
    "\n",
    "    @info @sprintf(\"time: %s, iteration: %d, max(u): %.2e m s⁻¹, wall time: %s\",\n",
    "                   prettytime(sim.model.clock.time),\n",
    "                   sim.model.clock.iteration,\n",
    "                   maximum(sim.model.velocities.u),\n",
    "                   prettytime(wall_time))\n",
    "\n",
    "    p.interval_start_time = time_ns()\n",
    "\n",
    "    return nothing\n",
    "end\n",
    "\n",
    "simulation.callbacks[:progress] = Callback(Progress(time_ns()), IterationInterval(24*50))\n",
    "output_fields = merge(model.velocities, (η=model.free_surface.η,))\n",
    "output_prefix = \"barotropic_gyre_Nx$(grid.Nx)_Ny$(grid.Ny)\"\n",
    "\n",
    "simulation.output_writers[:fields] = JLD2Writer(model, output_fields,\n",
    "                                                schedule = TimeInterval(1day),\n",
    "                                                filename = output_prefix,\n",
    "                                                overwrite_existing = true)"
   ]
  },
  {
   "cell_type": "markdown",
   "id": "064552ca-4e35-45ae-84cd-e3d4082522fc",
   "metadata": {},
   "source": [
    "# 4. Run the simulation!!!\n",
    "\n",
    "Now the only left is to run the simulation which will write output at regular intervals"
   ]
  },
  {
   "cell_type": "code",
   "execution_count": null,
   "id": "f4cf54c8-a756-4a68-b3c2-5234dba7fc8b",
   "metadata": {},
   "outputs": [],
   "source": [
    "run!(simulation)"
   ]
  },
  {
   "cell_type": "markdown",
   "id": "0d792afc-3d25-4d77-b4fe-50821fa5aa66",
   "metadata": {},
   "source": [
    "# 5. Visualisation\n",
    "\n",
    "We can now load in the simulation data and turn the simulation into a video"
   ]
  },
  {
   "cell_type": "code",
   "execution_count": null,
   "id": "5ade1aa4-8ff4-42b7-ab12-fda85f6fc736",
   "metadata": {},
   "outputs": [],
   "source": [
    "using JLD2      # A data format that can write Julia data as-is, alternative to netCDF\n",
    "using GLMakie   # uses the visualisation library Makie.jl (think Matplotlib if you're coming from Python) with OpenGL backend"
   ]
  },
  {
   "cell_type": "code",
   "execution_count": null,
   "id": "169d3e0a-6483-4682-bdfb-7bb69cef267a",
   "metadata": {},
   "outputs": [],
   "source": [
    "function visualize_barotropic_gyre(filepath)\n",
    "    file = jldopen(filepath)\n",
    "\n",
    "    Nx = file[\"grid/Nx\"]    # resolution of simulation\n",
    "    Ny = file[\"grid/Ny\"]\n",
    "\n",
    "    # A spherical domain\n",
    "    grid = LatitudeLongitudeGrid(size = (Nx, Ny, 1),\n",
    "                                 longitude = (-30, 30),\n",
    "                                 latitude = (15, 75),\n",
    "                                 z = (-500, 0))\n",
    "\n",
    "    iterations = parse.(Int, keys(file[\"timeseries/t\"]))\n",
    "\n",
    "    # coordinates on u, v, c points (Arakawa C-grid!)\n",
    "    xu, yu = λnodes(grid, Face()), φnodes(grid, Center())\n",
    "    xv, yv = λnodes(grid, Center()), φnodes(grid, Face())\n",
    "    xc, yc = λnodes(grid, Center()), φnodes(grid, Center())\n",
    "\n",
    "    # turn the iteration into an observable that can be updated\n",
    "    # which will also update all variables that depend on it!\n",
    "    iter = Observable(0)\n",
    "\n",
    "    u = @lift file[\"timeseries/u/\" * string($iter)][:, :, 1]\n",
    "    v = @lift file[\"timeseries/v/\" * string($iter)][:, :, 1]\n",
    "    η = @lift file[\"timeseries/η/\" * string($iter)][:, :, 1]\n",
    "\n",
    "    # create a figure, add some axes and plot some heatmaps into it\n",
    "    fig = Figure(size=(1100, 400))\n",
    "\n",
    "    ax1 = Axis(fig[1, 1], title=\"u\")\n",
    "    heatmap!(ax1, u, colormap=:balance)#, colorrange=(-5, 5))\n",
    "    hidedecorations!(ax1)\n",
    "    \n",
    "    ax2 = Axis(fig[1, 2], title=\"v\")\n",
    "    heatmap!(ax2, v, colormap=:balance)#, colorrange=(-5, 5))\n",
    "    hidedecorations!(ax2)\n",
    "    \n",
    "    eta_time_title = @lift @sprintf(\"η, time=%s\", prettytime(file[\"timeseries/t/\" * string($iter)]))\n",
    "    ax3 = Axis(fig[1, 3], title=eta_time_title)\n",
    "    heatmap!(ax3, η, colormap=:balance)#, colorrange=(-800, 800))\n",
    "    hidedecorations!(ax3)\n",
    "\n",
    "    @info \"Recording animation...\"\n",
    "    record(fig, output_prefix * \".mp4\", iterations, framerate=18) do i\n",
    "        iter[] = i\n",
    "    end\n",
    "\n",
    "    close(file)\n",
    "    @info \"... done.\"\n",
    "    \n",
    "    return nothing\n",
    "end"
   ]
  },
  {
   "cell_type": "markdown",
   "id": "2d14d96e-fd56-44b1-84c9-5402eaac2b4f",
   "metadata": {},
   "source": [
    "Now we creat a video based on the following file"
   ]
  },
  {
   "cell_type": "code",
   "execution_count": null,
   "id": "90b90784-44ba-4505-b94e-928e45a49364",
   "metadata": {},
   "outputs": [],
   "source": [
    "output_prefix = \"barotropic_gyre_Nx$(Nx)_Ny$(Ny)\"\n",
    "filepath = output_prefix * \".jld2\"\n",
    "visualize_barotropic_gyre(filepath)"
   ]
  },
  {
   "cell_type": "markdown",
   "id": "0b21640a-593c-4b1b-83f8-c7dee51e7b6a",
   "metadata": {},
   "source": [
    "and look into the the current folder for a `.mp4` video!"
   ]
  }
 ],
 "metadata": {
  "kernelspec": {
   "display_name": "Julia 1.10.10",
   "language": "julia",
   "name": "julia-1.10"
  },
  "language_info": {
   "file_extension": ".jl",
   "mimetype": "application/julia",
   "name": "julia",
   "version": "1.10.10"
  }
 },
 "nbformat": 4,
 "nbformat_minor": 5
}
