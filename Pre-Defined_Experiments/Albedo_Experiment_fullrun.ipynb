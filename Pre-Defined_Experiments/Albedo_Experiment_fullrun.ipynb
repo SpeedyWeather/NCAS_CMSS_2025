{
 "cells": [
  {
   "cell_type": "markdown",
   "id": "51e6005a-f7e5-47d6-996c-dd82ede02fad",
   "metadata": {},
   "source": [
    "# 🎨🌞 Albedo Experiment\n",
    "\n",
    "### Originally created by Dr. A. Denvil-Sommer (NCAS, Univerity of Reading)."
   ]
  },
  {
   "cell_type": "markdown",
   "id": "c072eacd-990e-4eb6-aae9-bfdb72e9535e",
   "metadata": {},
   "source": [
    "## 🌊 Ocean Albedo and Climate Sensitivity\n",
    "\n",
    "The surface albedo of the global ocean is a critical factor in Earth’s climate system. Even small changes in ocean albedo can significantly alter the global energy budget, which in turn impacts atmospheric circulation, ocean currents, and the hydrological cycle.\n",
    "\n",
    "Typical ocean albedo values range from 0.06 to 0.10, with lower values near the equator and slightly higher values near the poles due to changes in sun angle and surface roughness."
   ]
  },
  {
   "cell_type": "markdown",
   "id": "7d8ff37e-f85b-49a8-a8b8-b46804d369fb",
   "metadata": {},
   "source": [
    "## 🎯 Objective\n",
    "\n",
    "Investigate how increasing ocean **albedo (reflectivity)** affects surface temperature and the atmosphere when coupled with land and ocean models in SpeedyWeather.jl."
   ]
  },
  {
   "cell_type": "markdown",
   "id": "1bf2eebe-c396-435f-8d52-551d42961b56",
   "metadata": {},
   "source": [
    "## 🌊🧪 Ocean Albedo Experiment Setup\n",
    "We will explore how changes in ocean albedo affect the atmosphere by comparing two simulations:\n",
    "\n",
    "**🔹 Control Run (Realistic Albedo)**\n",
    "\n",
    "Set a typical global ocean albedo with a slight increase toward the poles:\n",
    "`set!(albedo.ocean, (λ, φ) -> 0.06 + 0.04 * abs(φ)/90)`.\n",
    "\n",
    "**🔸 Perturbed Run (High Albedo)**\n",
    "\n",
    "Now increase the ocean albedo uniformly to examine its impact:\n",
    "`set!(albedo.ocean, (λ, φ) -> 0.16 + 0.04 * abs(φ)/90)`. \n",
    "\n",
    "⚠️ Important: Save each simulation to a separate folder or give output files unique names, so you can easily compare results later without overwriting."
   ]
  },
  {
   "cell_type": "markdown",
   "id": "4101b104-6655-4c7e-89da-00bf6ace9d61",
   "metadata": {},
   "source": [
    "## 🔬 🧠 Guiding Questions\n",
    "\n",
    "- How did the surface temperature respond to increased ocean albedo?\n",
    "\n",
    "- Do the equator-to-pole temperature gradients change?\n",
    "\n",
    "- Is there a noticeable impact on precipitation patterns?\n",
    "\n",
    "- How do atmospheric circulation fields (e.g., zonal wind) respond?\n",
    "\n",
    "- Can you relate these effects to Earth’s climate sensitivity or feedbacks?"
   ]
  },
  {
   "cell_type": "markdown",
   "id": "a40af4c5-01de-46f3-af4b-5fe3915c8279",
   "metadata": {},
   "source": [
    "## 💾 Variables to Invistigate \n",
    "\n",
    "To investigate the effects of ocean albedo changes, you should save the following variables from your simulation output:\n",
    "\n",
    "- **🌊 Sea Surface Temperature (SST)**\n",
    "`simulation.prognostic_variables.ocean.sea_surface_temperature`\n",
    "\n",
    "- **💧 Specific Humidity**\n",
    "`simulation.diagnostic_variables.grid.humid_grid`\n",
    "\n",
    "- **🌬️ Surface Winds (Zonal and Meridional)**\n",
    "`simulation.diagnostic_variables.grid.u_grid`\n",
    "`simulation.diagnostic_variables.grid.v_grid`\n",
    "\n",
    "- **🌧️ Precipitation (Large-scale)**\n",
    "`simulation.diagnostic_variables.physics.precip_large_scale`\n",
    "\n",
    "- **📉 Pressure Tendency (for Hadley Cell analysis)**\n",
    "`simulation.diagnostic_variables.tendencies.pres_tend`\n",
    "\n",
    "👉 You may also consider saving additional variables depending on the focus of your analysis."
   ]
  },
  {
   "cell_type": "code",
   "execution_count": null,
   "id": "3eb9ee9e-0717-4f3c-8cd1-3742b5164c2e",
   "metadata": {},
   "outputs": [],
   "source": [
    "using SpeedyWeather\n",
    "using Dates\n",
    "using CairoMakie"
   ]
  },
  {
   "cell_type": "code",
   "execution_count": null,
   "id": "498ed530-59d7-4d6c-882b-c6903ce58bd1",
   "metadata": {},
   "outputs": [],
   "source": [
    "# 1. Define the grid and components\n",
    "spectral_grid = SpectralGrid(trunc=21, nlayers=8)\n",
    "output = NetCDFOutput(spectral_grid, PrimitiveWetModel, id=\"Climate_Ocean_Albedo\", output_dt=Minute(180))\n",
    "add!(output, SpeedyWeather.TemperatureOutput(), SpeedyWeather.LargeScalePrecipitationOutput(), SpeedyWeather.ConvectivePrecipitationOutput())  # output also temperature and precip"
   ]
  },
  {
   "cell_type": "code",
   "execution_count": null,
   "id": "b6492b00-24ec-4e5f-894d-877af802e307",
   "metadata": {},
   "outputs": [],
   "source": [
    "# 2. Create land and ocean models\n",
    "vertical_advection = WENOVerticalAdvection(spectral_grid)\n",
    "large_scale_condensation = ImplicitCondensation(spectral_grid)\n",
    "convection = SimplifiedBettsMiller(spectral_grid)\n",
    "temperature=LandBucketTemperature(spectral_grid)\n",
    "soil_moisture=LandBucketMoisture(spectral_grid)\n",
    "land = LandModel(spectral_grid; temperature, soil_moisture)\n",
    "ocean = SlabOcean(spectral_grid, mixed_layer_depth=50)"
   ]
  },
  {
   "cell_type": "code",
   "execution_count": null,
   "id": "ae3c6181-945b-408e-a22e-20775626c5b6",
   "metadata": {},
   "outputs": [],
   "source": [
    "# 3. Set up albedo component\n",
    "#albedo = Albedo(GlobalConstantAlbedo(spectral_grid, albedo=0.06), AlbedoClimatology(spectral_grid))\n",
    "# create model, initialize, run\n",
    "# 3. Set up albedo component\n",
    "# Create a ManualAlbedo object\n",
    "manual = ManualAlbedo(spectral_grid)\n",
    "\n",
    "# Create the composite albedo object\n",
    "albedo = Albedo(ocean=manual, land=AlbedoClimatology(spectral_grid))\n",
    "\n",
    "# manual albedo for the ocean\n",
    "set!(albedo.ocean, (λ, φ) -> 0.16 + 0.04 * abs(φ)/90)"
   ]
  },
  {
   "cell_type": "code",
   "execution_count": null,
   "id": "dfa79ba4-bb67-41a2-b16b-67f4b6c528b8",
   "metadata": {},
   "outputs": [],
   "source": [
    "# create model, initialize, run\n",
    "time_stepping = Leapfrog(spectral_grid, Δt_at_T31=Minute(40)) #CPL this is the standar time step\n",
    "\n",
    "### Entirely new run\n",
    "model = PrimitiveWetModel(spectral_grid; vertical_advection, time_stepping, large_scale_condensation, convection, land, ocean, albedo, output=output)\n",
    "\n",
    "add!(model, SpeedyWeather.AllOutputVariables()...)\n",
    "simulation = initialize!(model)\n",
    "# now offset via set! with add=true\n",
    "set!(albedo.land, (λ, φ) -> 0., add=true)\n",
    "set!(albedo.ocean, (λ, φ) -> 0.06 + 0.04 * abs(φ)/90, add=true)"
   ]
  },
  {
   "cell_type": "code",
   "execution_count": null,
   "id": "c253f0b3-03fc-4f10-b86f-15b047d46f32",
   "metadata": {},
   "outputs": [],
   "source": [
    "# visualise intial land albedo\n",
    "alb = simulation.model.albedo.land.albedo\n",
    "heatmap(alb, title=\"albedo\")"
   ]
  },
  {
   "cell_type": "code",
   "execution_count": null,
   "id": "794a4e8e-86b5-4fe4-ae12-cc9f0d5d75a1",
   "metadata": {},
   "outputs": [],
   "source": [
    "# visualise intial ocean albedo\n",
    "alb = simulation.model.albedo.ocean.albedo\n",
    "heatmap(alb, title=\"albedo\")"
   ]
  },
  {
   "cell_type": "code",
   "execution_count": null,
   "id": "aae467b2-9cfc-4430-90a8-d4208134a6d4",
   "metadata": {},
   "outputs": [],
   "source": [
    "# run the simualtion\n",
    "run!(simulation, period=Day(30*365), output=true)"
   ]
  },
  {
   "cell_type": "code",
   "execution_count": null,
   "id": "f9b2795a-c3a0-48f1-baa9-3ecb6db7a9dd",
   "metadata": {},
   "outputs": [],
   "source": [
    "alb = simulation.model.albedo.land.albedo\n",
    "heatmap(alb, title=\"albedo\")"
   ]
  },
  {
   "cell_type": "code",
   "execution_count": null,
   "id": "69154330-aad5-4499-8a99-7eb27c1305cc",
   "metadata": {},
   "outputs": [],
   "source": [
    "alb = simulation.model.albedo.ocean.albedo\n",
    "heatmap(alb, title=\"albedo\")"
   ]
  },
  {
   "cell_type": "code",
   "execution_count": null,
   "id": "683728c8-d603-400d-a1d8-e21ab199db49",
   "metadata": {},
   "outputs": [],
   "source": [
    "alb = simulation.diagnostic_variables.physics.ocean.albedo\n",
    "heatmap(alb, title=\"albedo\")"
   ]
  },
  {
   "cell_type": "code",
   "execution_count": null,
   "id": "caa0c3c6-3d60-450a-8e6e-0f1a91dc9b17",
   "metadata": {},
   "outputs": [],
   "source": [
    "alb_land = simulation.diagnostic_variables.physics.land.albedo\n",
    "heatmap(alb_land, title=\"albedo\")"
   ]
  },
  {
   "cell_type": "code",
   "execution_count": null,
   "id": "e090044c-7a51-485e-805d-478d6c6fafcf",
   "metadata": {},
   "outputs": [],
   "source": [
    "sst = simulation.prognostic_variables.ocean.sea_surface_temperature\n",
    "heatmap(sst, title=\"Surface Temperature [K]\")"
   ]
  },
  {
   "cell_type": "code",
   "execution_count": null,
   "id": "e4cdc98f-3f4b-44f1-9331-c76495ea8004",
   "metadata": {},
   "outputs": [],
   "source": [
    "T = simulation.diagnostic_variables.grid.temp_grid[:, 8]\n",
    "heatmap(T, title=\"Surface Temperature [K]\")"
   ]
  },
  {
   "cell_type": "code",
   "execution_count": null,
   "id": "04344450-c0db-497f-8e85-8edd0ef91a75",
   "metadata": {},
   "outputs": [],
   "source": [
    "P = simulation.diagnostic_variables.physics.precip_large_scale\n",
    "heatmap(P, title=\"Precipitation [mm/day]\")"
   ]
  },
  {
   "cell_type": "code",
   "execution_count": null,
   "id": "459eecb3-973d-4462-91f5-81446f79005b",
   "metadata": {},
   "outputs": [],
   "source": [
    "U = simulation.diagnostic_variables.grid.u_grid[:, 8]\n",
    "heatmap(U, title=\"Zonal Wind at Surface [m/s]\")"
   ]
  },
  {
   "cell_type": "code",
   "execution_count": null,
   "id": "ec73c50d-beaf-4a0b-a4e6-c096dfb150aa",
   "metadata": {},
   "outputs": [],
   "source": []
  }
 ],
 "metadata": {
  "kernelspec": {
   "display_name": "Julia 1.10.8",
   "language": "julia",
   "name": "julia-1.10"
  },
  "language_info": {
   "file_extension": ".jl",
   "mimetype": "application/julia",
   "name": "julia",
   "version": "1.10.9"
  }
 },
 "nbformat": 4,
 "nbformat_minor": 5
}
