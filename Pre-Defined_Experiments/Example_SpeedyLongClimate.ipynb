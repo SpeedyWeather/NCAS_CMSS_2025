{
 "cells": [
  {
   "cell_type": "code",
   "execution_count": 1,
   "id": "138091f9-4d88-46c8-899f-e2f3c8779731",
   "metadata": {},
   "outputs": [],
   "source": [
    "#import Pkg; Pkg.add(\"SpeedyWeather\")"
   ]
  },
  {
   "cell_type": "code",
   "execution_count": null,
   "id": "c367aac2-3e80-49f0-94aa-a2411de96ec1",
   "metadata": {},
   "outputs": [
    {
     "name": "stderr",
     "output_type": "stream",
     "text": [
      "\u001b[36m\u001b[1m[ \u001b[22m\u001b[39m\u001b[36m\u001b[1mInfo: \u001b[22m\u001b[39mTime step changed from 2400000 to 2700000 milliseconds (+12%) to match output frequency.\n",
      "\u001b[32mWeather is speedy: run 0022  50%|████▌    |  ETA: 1:02:03 (347.11 years/day)\u001b[39m"
     ]
    }
   ],
   "source": [
    "using SpeedyWeather\n",
    "# components\n",
    "spectral_grid = SpectralGrid(trunc=31, nlayers=8)\n",
    "output = NetCDFOutput(spectral_grid, PrimitiveWetModel, path=\"/Users/vidale/SpeedyWeather\", id=\"Climate_Ocean\", output_dt=Minute(180))\n",
    "add!(output, SpeedyWeather.TemperatureOutput(), SpeedyWeather.LargeScalePrecipitationOutput(), SpeedyWeather.ConvectivePrecipitationOutput())  # output also temperature and precip\n",
    "\n",
    "# Some parameterisation choices\n",
    "large_scale_condensation = ImplicitCondensation(spectral_grid)\n",
    "convection = SimplifiedBettsMiller(spectral_grid)\n",
    "#surface_evaporation = NoSurfaceEvaporation(spectral_grid)\n",
    "thermodynamics = LandThermodynamics(spectral_grid, heat_conductivity=0.25)\n",
    "temperature=LandBucketTemperature(spectral_grid)\n",
    "soil_moisture=LandBucketMoisture(spectral_grid)\n",
    "land = LandModel(spectral_grid; temperature, soil_moisture)\n",
    "ocean = SlabOcean(spectral_grid, mixed_layer_depth=50)\n",
    "#longwave_radiation = NBandRadiation(spectral_grid, nbands=5)\n",
    "\n",
    "#Try to fix ocean albedo\n",
    "#albedo = Albedo(AlbedoClimatology(spectral_grid), AlbedoClimatology(spectral_grid))\n",
    "albedo = Albedo(GlobalConstantAlbedo(spectral_grid, albedo=0.3), AlbedoClimatology(spectral_grid))\n",
    "# create model, initialize, run\n",
    "### Entirely new run\n",
    "#model = PrimitiveWetModel(spectral_grid; large_scale_condensation, convection, land, ocean, albedo, output=output)\n",
    "\n",
    "### Continuation run\n",
    "initial_conditions = StartFromFile(path=\"/Users/vidale/SpeedyWeather\", id=\"0018\")   # or specify `path` kwarg if not in this folder\n",
    "model = PrimitiveWetModel(spectral_grid; initial_conditions, large_scale_condensation, convection, land, ocean, albedo, output=output)\n",
    "\n",
    "add!(model, SpeedyWeather.AllOutputVariables()...)\n",
    "simulation = initialize!(model)\n",
    "run!(simulation, period=Day(30*365), output=true)"
   ]
  },
  {
   "cell_type": "code",
   "execution_count": null,
   "id": "2d67276d-8a67-474f-81e3-60d2e1c707b5",
   "metadata": {},
   "outputs": [],
   "source": []
  }
 ],
 "metadata": {
  "kernelspec": {
   "display_name": "Julia 1.10.8",
   "language": "julia",
   "name": "julia-1.10"
  },
  "language_info": {
   "file_extension": ".jl",
   "mimetype": "application/julia",
   "name": "julia",
   "version": "1.10.9"
  }
 },
 "nbformat": 4,
 "nbformat_minor": 5
}
