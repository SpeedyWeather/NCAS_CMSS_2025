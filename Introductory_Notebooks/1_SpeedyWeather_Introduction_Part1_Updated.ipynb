{
 "cells": [
  {
   "cell_type": "markdown",
   "id": "e33a93fe",
   "metadata": {},
   "source": [
    "# SpeedyWeather. Installation and use\n",
    "\n",
    "_Dr. Anna Denvil-Sommer (NCAS, University of Reading)_"
   ]
  },
  {
   "attachments": {},
   "cell_type": "markdown",
   "id": "af4069c1",
   "metadata": {},
   "source": [
    "🌍_SpeedyWeather.jl_ is a global atmospheric model with simplified representations of processes like clouds, radiation, and precipitation. It’s designed as a flexible, modular library, making it easy to run fast simulations, experiment with model components, and interactively explore the building blocks of climate models.\n",
    "\n",
    "Unlike full Earth System Models, SpeedyWeather is lightweight and focused on the atmosphere, making it ideal for learning, testing ideas, and understanding how model choices affect climate simulations.\n",
    "\n",
    "More details: https://speedyweather.github.io/SpeedyWeatherDocumentation/dev/ \n",
    "\n",
    "🎉 _By the end of this notebook, you will be able to build and run your own SpeedyWeather.jl configuration and analyze its various components._ "
   ]
  },
  {
   "cell_type": "markdown",
   "id": "7f6d998b-d27b-47c7-8ab7-9500be4d1d37",
   "metadata": {},
   "source": [
    "## 📦 Prerequisites \n",
    "\n",
    "- Please follow these instructions to install the required software:\n",
    "\n",
    "1. If you want to run SpeedyWeather in a Jupyter Notebook, open a terminal in the Jupyter web interface. Otherwise open a regular terminal.\n",
    "2. Install Julia:\n",
    "  ```\n",
    "  curl -fsSL https://install.julialang.org | sh\n",
    "  ```\n",
    "  (If you need further information about installing Julia click here: [https://julialang.org/install/](https://julialang.org/install/).)\n",
    "  \n",
    "3. Start the Julia terminal by typing:\n",
    "  ```\n",
    "  julia\n",
    "  ```\n",
    "\n",
    "  In the Julia terminal type:\n",
    "  ```\n",
    "  using Pkg\n",
    "  ```\n",
    "\n",
    "  to use the package manager.\n",
    "\n",
    "4. If you want to run SpeedyWeather in a Jupyter Notebook, install the IJulia package in the Julia terminal:\n",
    "  ```\n",
    "  Pkg.add(\"IJulia\")\n",
    "  ```\n",
    "\n",
    "\n",
    "A Julia kernel should now be available when opening a new notebook.\n",
    "\n",
    "5. Install SpeedyWeather, GeoMakie & CairoMakie in the Julia terminal:\n",
    "  ```\n",
    "  Pkg.add(\"SpeedyWeather\")\n",
    "  Pkg.add(\"GeoMakie\")\n",
    "  Pkg.add(\"CairoMakie\")\n",
    "  Pkg.add(\"NCDatasets\")\n",
    "  ```\n",
    "\n",
    " \n",
    "  > *Note: There is no requirement to know the Julia language; however, installing it is necessary in order to run SpeedyWeather.*\n",
    "\n",
    "- To simplify data analysis, we recommend installing **ncvis**: [https://github.com/SEATStandards/ncvis](https://github.com/SEATStandards/ncvis).  \n",
    "  > *This modern alternative to ncview allows you to quickly inspect the NetCDF datasets you will generate.*"
   ]
  },
  {
   "cell_type": "markdown",
   "id": "67de32f2",
   "metadata": {},
   "source": [
    "# How to run SpeedyWeather\n",
    "\n",
    "GeoMakie.jl is a Julia package for plotting geospatial data on a given map projection. It is built on top of the Makie.jl plotting ecosystem.\n",
    "\n",
    "CairoMakie uses Cairo.jl to draw vector graphics to SVG and PDF. You should use it if you want to achieve the highest-quality plots for publications.\n",
    "\n",
    "Run this to check your setup:"
   ]
  },
  {
   "cell_type": "code",
   "execution_count": null,
   "id": "38947873",
   "metadata": {},
   "outputs": [],
   "source": [
    "using SpeedyWeather\n",
    "using GeoMakie, CairoMakie"
   ]
  },
  {
   "attachments": {},
   "cell_type": "markdown",
   "id": "d7c768b5-65c3-4bf8-b180-6b374767b4d3",
   "metadata": {},
   "source": [
    "### 🌐 1. Defining the Simulation Domain: Spectral Grid and Vertical Levels \n",
    "\n",
    "🚨 Every simulation in SpeedyWeather.jl starts by setting up a _SpectralGrid_, which defines the model’s horizontal resolution (on a sphere) and the number of vertical levels.\n",
    "\n",
    "Unlike traditional Earth system models that use grid boxes in longitude, latitude, and height, SpeedyWeather also uses spectral methods. These are especially powerful for simulating global atmospheric dynamics — like Rossby waves — with high efficiency and accuracy.\n",
    "\n",
    "The SpectralGrid is the backbone of the simulation: it shapes the domain and needs to be passed to most components when setting up the model."
   ]
  },
  {
   "cell_type": "code",
   "execution_count": null,
   "id": "fd6e5e70",
   "metadata": {},
   "outputs": [],
   "source": [
    "spectral_grid = SpectralGrid()"
   ]
  },
  {
   "cell_type": "markdown",
   "id": "90e1d6a3-8b63-4927-a39b-3212e2e10020",
   "metadata": {},
   "source": [
    "To get help type ?SpectralGrid. "
   ]
  },
  {
   "cell_type": "markdown",
   "id": "ffcf69d0-a7dd-4df8-adbf-1c140068574c",
   "metadata": {},
   "source": [
    "By default, SpeedyWeather uses a T31 spectral resolution, which includes waves up to wavenumber 31. This corresponds to a horizontal resolution of about 400 km, with an octahedral Gaussian grid: 48 latitude rings and up to 96 longitude points near the equator.\n",
    "\n",
    "Vertically, the model uses 8 sigma levels, and assumes an Earth radius of 6371 km. All variables are stored in Float32 format to save memory.\n",
    "\n",
    "You can change the resolution using the _trunc_ setting — this adjusts both the spectral and grid resolution automatically."
   ]
  },
  {
   "cell_type": "code",
   "execution_count": null,
   "id": "fbd3d95c",
   "metadata": {},
   "outputs": [],
   "source": [
    "spectral_grid = SpectralGrid(trunc=85)"
   ]
  },
  {
   "cell_type": "markdown",
   "id": "ce89a0b6-d951-4b13-98de-c44d7344aecc",
   "metadata": {},
   "source": [
    "Common spectral resolutions in SpeedyWeather include T31, T42, T63, and T85, where higher numbers give finer horizontal detail. Instead of setting grid resolution directly, you choose a spectral truncation (trunc).\n",
    "\n",
    "You can also change the grid type using the _Grid_ argument if needed.\n",
    "📖 More about resolution: https://speedyweather.github.io/SpeedyWeatherDocumentation/dev/spectral_transform/#Available-horizontal-resolutions\n",
    "📖 More about grid types: https://speedyweather.github.io/SpeedyWeatherDocumentation/dev/grids/#Grids"
   ]
  },
  {
   "cell_type": "code",
   "execution_count": null,
   "id": "c5b58ce2",
   "metadata": {},
   "outputs": [],
   "source": [
    "spectral_grid = SpectralGrid(trunc=85, dealiasing=3, Grid=HEALPixGrid)"
   ]
  },
  {
   "attachments": {},
   "cell_type": "markdown",
   "id": "6ef551a3-a7a2-461e-a0ae-4abcbbc4cc19",
   "metadata": {},
   "source": [
    "Grid type affects how the model solves equations on the sphere. It impacts:\n",
    "\n",
    "- Computational efficiency\n",
    "\n",
    "- Numerical accuracy\n",
    "\n",
    "- Physical representation of processes (especially near the poles)\n",
    "\n",
    "☝️Using SpeedyWeather.jl, you can explore how the choice of grid influences the simulation results."
   ]
  },
  {
   "cell_type": "markdown",
   "id": "7ba9d041-ed5a-4e61-b860-6f0a44fc852a",
   "metadata": {},
   "source": [
    "_nlayers_ argument determines the number of vertical layers. Especially for the BarotropicModel and the ShallowWaterModel you want to set this to"
   ]
  },
  {
   "cell_type": "code",
   "execution_count": null,
   "id": "15019929",
   "metadata": {},
   "outputs": [],
   "source": [
    "spectral_grid = SpectralGrid(nlayers=1)"
   ]
  },
  {
   "cell_type": "markdown",
   "id": "cca8f530-d3ba-4469-9e93-acced27473b0",
   "metadata": {},
   "source": [
    "### 🧩 2. Creating model components"
   ]
  },
  {
   "cell_type": "markdown",
   "id": "c8fb30b5-9e0f-40d7-a30a-3de408d9d46c",
   "metadata": {},
   "source": [
    "🚨 No Namelists in SpeedyWeather\n",
    "\n",
    "Unlike many models that use namelists to set options, SpeedyWeather.jl takes a more modular approach. You build the model by creating and combining components (like grid, timestepper, physics) with your chosen settings."
   ]
  },
  {
   "cell_type": "markdown",
   "id": "3e4d0ab4-145c-4b5b-9e8a-9392d131685c",
   "metadata": {},
   "source": [
    "🔍 Let’s try it out with the _ShallowWaterModel_\n",
    "\n",
    "We’ll create a default _ShallowWaterModel_ and take a look at its main components."
   ]
  },
  {
   "cell_type": "code",
   "execution_count": null,
   "id": "ef17d7be",
   "metadata": {},
   "outputs": [],
   "source": [
    "model = ShallowWaterModel(spectral_grid)"
   ]
  },
  {
   "cell_type": "markdown",
   "id": "60971462-ff36-442f-881e-a7f76f42c266",
   "metadata": {},
   "source": [
    "By default, the ShallowWaterModel in SpeedyWeather.jl uses the _Leapfrog_ time-stepping scheme. You can inspect it with:"
   ]
  },
  {
   "cell_type": "code",
   "execution_count": null,
   "id": "56d46594",
   "metadata": {},
   "outputs": [],
   "source": [
    "model.time_stepping"
   ]
  },
  {
   "cell_type": "markdown",
   "id": "1cefb67b-22d0-44cd-aa5f-9463cff0d3a4",
   "metadata": {},
   "source": [
    "Leapfrog is a simple numerical method that calculates the future state using the state from two steps ago:"
   ]
  },
  {
   "cell_type": "markdown",
   "id": "1f2bbc3e-91c1-46c7-880a-423414cc717b",
   "metadata": {},
   "source": [
    "x(t + Δt) = x(t - Δt) + 2Δt·f(t)"
   ]
  },
  {
   "cell_type": "markdown",
   "id": "157137ef-e87a-4bf9-8ab5-ae0468e801a1",
   "metadata": {},
   "source": [
    "It’s called “leapfrog” because it skips over the intermediate point, jumping ahead like a frog.\n",
    "\n",
    "✅ Efficient and fast\n",
    "\n",
    "✅ Good for wave-like motions (e.g., Rossby waves)\n",
    "\n",
    "⚠️ Needs filters (e.g. Robert-Asselin filter) to control noise"
   ]
  },
  {
   "cell_type": "markdown",
   "id": "c06f1413-7dc4-42f9-9409-8a64eb4614f1",
   "metadata": {},
   "source": [
    "Leapfrog has been widely used in global atmospheric models, especially spectral models like earlier versions of IFS (ECMWF) or GFDL models.\n",
    "\n",
    "- Good at conserving wave energy over long runs\n",
    "\n",
    "- Common in models simulating large-scale dynamics\n",
    "\n",
    "- Still used in some simplified and intermediate-complexity GCMs"
   ]
  },
  {
   "cell_type": "markdown",
   "id": "bc725ec8-9ca4-4901-9649-b7d8c69be053",
   "metadata": {},
   "source": [
    "🌀 Other Time Stepping Methods\n",
    "\n",
    "In numerical modelling, different methods are used depending on the problem:\n",
    "\n",
    "- Runge-Kutta: More accurate and stable than Leapfrog, but also slower and more computationally demanding.\n",
    "\n",
    "- Forward Euler: Very simple, but not suitable for oscillatory systems—it tends to become unstable.\n",
    "\n",
    "There’s no one-size-fits-all method. The best time stepper depends on your scientific goals and the type of simulation you want to run."
   ]
  },
  {
   "cell_type": "markdown",
   "id": "aa291bcf-5f69-4852-828c-c50294d41593",
   "metadata": {},
   "source": [
    "🕒 Time Stepping in SpeedyWeather.jl\n",
    "\n",
    "⏱️ The default time step is 30 minutes at T31 resolution. If you increase the resolution (e.g. T63), the time step automatically shortens (e.g. 15 minutes) to keep the simulation stable.\n",
    "\n",
    "You can also set your own time step by creating a new Leapfrog object:"
   ]
  },
  {
   "cell_type": "code",
   "execution_count": null,
   "id": "d96075a9",
   "metadata": {},
   "outputs": [],
   "source": [
    "spectral_grid = SpectralGrid(trunc=63, nlayers=1)\n",
    "time_stepping = Leapfrog(spectral_grid, Δt_at_T31=Minute(15))"
   ]
  },
  {
   "cell_type": "markdown",
   "id": "5913d826-4113-4b26-b7b6-14ac49680465",
   "metadata": {},
   "source": [
    "✅ Note: In Jupyter notebook you can type greek letters by writing e.g. \\tau and then press the tab key. It should then suggest you the greek letter to write. Pressing enter will convert it into this letter.\n",
    "\n",
    "✅ Note: All time durations should be given using Dates.jl, such as Minute(10), Hour(1), etc."
   ]
  },
  {
   "cell_type": "markdown",
   "id": "b3096bae-d460-4f54-8c7d-7cf935dbbbe4",
   "metadata": {},
   "source": [
    "⏱️ How the Time Step Works Internally\n",
    "\n",
    "When you use a time stepper like Leapfrog, the actual time step (in seconds) is stored as Δt_sec. There’s also a scaled version, Δt, used internally for flexibility—this helps keep the model general (e.g. for different planetary radii), but it’s handled automatically.\n",
    "\n",
    "To use your custom time stepper in a model:"
   ]
  },
  {
   "cell_type": "code",
   "execution_count": null,
   "id": "1d2a16bf",
   "metadata": {},
   "outputs": [],
   "source": [
    "model = ShallowWaterModel(spectral_grid; time_stepping)"
   ]
  },
  {
   "cell_type": "markdown",
   "id": "ded19bc5-b651-45d6-ba18-ac2283effa57",
   "metadata": {},
   "source": [
    "🚨 What Are Model Components?\n",
    "\n",
    "In SpeedyWeather.jl, simulations are built from modular components, grouped into three main types:\n",
    "\n",
    "1. Core Components\n",
    "These handle the main simulation tasks:\n",
    "\n",
    "- Dynamics (e.g. equations of motion)\n",
    "\n",
    "- Physics (e.g. forcing or damping)\n",
    "\n",
    "- Numerics (e.g. time stepping)\n",
    "\n",
    "Each can:\n",
    "\n",
    "- Have settings (like time step size)\n",
    "\n",
    "- Store internal data\n",
    "\n",
    "- Run key functions each step (e.g. apply wind forcing)\n",
    "\n",
    "👉 Example: A forcing component might hold constants, a wind pattern, and a function to apply it each step.\n",
    "\n",
    "2. Parameter Collections\n",
    "These bundle related constants.\n",
    "\n",
    "Example: Earth stores values like radius, gravity, and rotation rate.\n",
    "\n",
    "3. Output & Diagnostics\n",
    "These manage what's saved or displayed.\n",
    "\n",
    "Example: OutputWriter saves data to NetCDF, Feedback shows progress in the terminal."
   ]
  },
  {
   "cell_type": "markdown",
   "id": "44526d99-b2df-4e7a-9d23-3c98814f191d",
   "metadata": {},
   "source": [
    "✨ Advanced: Redefining or Creating Components\n",
    "All components belong to general types called abstract supertypes. That means you can:\n",
    "\n",
    "- Change individual parameters of a component\n",
    "\n",
    "- Or even create your own new component by defining a new subtype\n",
    "\n",
    "💡 This makes SpeedyWeather very flexible for experimentation or advanced model development. See the _Extending SpeedyWeather_ (https://speedyweather.github.io/SpeedyWeather.jl/dev/extensions/#Extending-SpeedyWeather) section if you're curious!"
   ]
  },
  {
   "cell_type": "markdown",
   "id": "be02c8ae-b849-4a01-b957-15bb60b59a45",
   "metadata": {},
   "source": [
    "### 🏗️ 3. Building the Model"
   ]
  },
  {
   "cell_type": "markdown",
   "id": "4f40e87e-8712-4b4c-855c-e339a9ed9751",
   "metadata": {},
   "source": [
    "🌎 What Kinds of Models Can You Run in SpeedyWeather?\n",
    "\n",
    "SpeedyWeather.jl comes with four built-in atmospheric models, each designed to simulate a different level of complexity in the Earth's atmosphere:\n",
    "\n",
    "1. BarotropicModel\n",
    "\n",
    "  📏 Solves the 2D barotropic vorticity equation.\n",
    "\n",
    "  🌀 Good for studying large-scale atmospheric waves (like Rossby waves) in a simplified setting.\n",
    "\n",
    "  ❌ No vertical motion or physical processes.\n",
    "\n",
    "2. ShallowWaterModel\n",
    "\n",
    "  🌊 Solves the 2D shallow water equations.\n",
    "  \n",
    "  💡 Useful for learning about geostrophic balance, inertia-gravity waves, and the basics of fluid motion on a rotating sphere.\n",
    "\n",
    "  ❌ No physical parameterizations (like radiation or clouds).\n",
    "\n",
    "3. PrimitiveDryModel\n",
    "\n",
    "  🌬️ A full 3D model solving the primitive equations without humidity.\n",
    "  \n",
    "  🔍 Includes vertical levels, Coriolis force, and large-scale dynamics—ideal for studying dry atmospheric circulation.\n",
    "\n",
    "4. PrimitiveWetModel\n",
    "\n",
    "  🌧️ Adds humidity and moist physics to the 3D primitive equations.\n",
    "  \n",
    "  ☁️ Includes simplified parameterizations of clouds, radiation, and precipitation—making it a more complete model of Earth’s atmosphere."
   ]
  },
  {
   "cell_type": "markdown",
   "id": "8910e55d-4217-4145-9672-f0a679e787eb",
   "metadata": {},
   "source": [
    "🧠 Why This Matters for Earth System Modelling\n",
    "\n",
    "Earth system models aim to simulate all major components of the climate system—atmosphere, ocean, land, sea ice, and biosphere — and their interactions. These models are modular, with each component solving a different set of equations.\n",
    "\n",
    "SpeedyWeather focuses on the atmospheric component, and its simplified structure mimics the modular design of comprehensive models like CESM, ECMWF IFS, or UKESM, but with much lower complexity and computational cost.\n",
    "\n",
    "That means SpeedyWeather is:\n",
    "\n",
    "- A learning tool for understanding how the atmosphere behaves\n",
    "\n",
    "- A testbed for ideas before moving to more complex Earth system models"
   ]
  },
  {
   "cell_type": "markdown",
   "id": "5a1d9bd6-a4ba-4da9-a447-fd2e9d056d4e",
   "metadata": {},
   "source": [
    "🧩 To construct any of these models in SpeedyWeather, you combine different components (like the spectral grid, time stepper, physical parameters), and plug them into the model constructor."
   ]
  },
  {
   "cell_type": "markdown",
   "id": "1fc6315f-a980-47ea-8d4a-dfd4dca2295e",
   "metadata": {},
   "source": [
    "spectral_grid = SpectralGrid(trunc=..., ...)\n",
    "\n",
    "component1 = SomeComponent(spectral_grid, parameter1=..., ...)\n",
    "\n",
    "component2 = SomeOtherComponent(spectral_grid, parameter2=..., ...)\n",
    "\n",
    "model = BarotropicModel(spectral_grid; all_other_components..., ...)"
   ]
  },
  {
   "cell_type": "markdown",
   "id": "25d5aa0d-70ca-4451-b4ea-7399508e9304",
   "metadata": {},
   "source": [
    "or model = ShallowWaterModel(spectral_grid; ...), etc."
   ]
  },
  {
   "cell_type": "markdown",
   "id": "9db0396a-7926-420e-b908-826cfc05fe76",
   "metadata": {},
   "source": [
    "#### 🔧 Model Initialization\n",
    "\n",
    "Once you've created the model by putting all its components together, the next step is initialization.\n",
    "\n",
    "This step:\n",
    "\n",
    "- Prepares arrays and variables,\n",
    "\n",
    "- Loads any needed data,\n",
    "\n",
    "- Sets up communication between components.\n",
    "\n",
    "Most components have their own initialize! function that runs automatically here. From your side, you just need to call one command to get everything ready:"
   ]
  },
  {
   "cell_type": "code",
   "execution_count": null,
   "id": "14204142-3ffa-4d24-872d-fa6cc3732e90",
   "metadata": {},
   "outputs": [],
   "source": [
    "simulation = initialize!(model)"
   ]
  },
  {
   "cell_type": "markdown",
   "id": "dc21823c-959c-4165-8c2e-37e1452686c5",
   "metadata": {},
   "source": [
    "this sets up everything the model needs to start, including internal variables like the simulation clock.\n",
    "\n",
    "If you want to start at a specific date, you can do:"
   ]
  },
  {
   "cell_type": "code",
   "execution_count": null,
   "id": "730e8765-8e32-444d-a803-c5a82661386f",
   "metadata": {},
   "outputs": [],
   "source": [
    "simulation.model"
   ]
  },
  {
   "cell_type": "code",
   "execution_count": null,
   "id": "74e46deb-833d-418c-aa99-3b5cb2368e50",
   "metadata": {},
   "outputs": [],
   "source": [
    "simulation = initialize!(model, time=DateTime(2020,5,1))\n",
    "simulation.prognostic_variables.clock.time"
   ]
  },
  {
   "cell_type": "markdown",
   "id": "c3574991-52d2-453c-8b0c-9fa253176298",
   "metadata": {},
   "source": [
    "This is useful for components that depend on the time (e.g. solar angle calculations).\n",
    "\n",
    "After initialization, you can still adjust some settings, like how often the model writes output:"
   ]
  },
  {
   "cell_type": "code",
   "execution_count": null,
   "id": "756e269c-2bab-4e2f-a1cc-94bbdf6b7c3c",
   "metadata": {},
   "outputs": [],
   "source": [
    "simulation.model.output.output_dt = Second(3600)"
   ]
  },
  {
   "attachments": {},
   "cell_type": "markdown",
   "id": "d357b54d-89c1-48ba-b1d2-e8a3fe6dc575",
   "metadata": {},
   "source": [
    "### 💨 4. Run a simulation"
   ]
  },
  {
   "cell_type": "markdown",
   "id": "130512f5-f1d3-4c30-90c1-1a969ae00778",
   "metadata": {},
   "source": [
    "Once your model is set up and initialized, you're ready to run the simulation."
   ]
  },
  {
   "cell_type": "code",
   "execution_count": null,
   "id": "17e29fa8-f609-4159-9d0f-39d992be5f02",
   "metadata": {},
   "outputs": [],
   "source": [
    "run!(simulation)"
   ]
  },
  {
   "cell_type": "markdown",
   "id": "4fbde618-1d01-495b-8082-459f9814b362",
   "metadata": {},
   "source": [
    "By default, the model runs for 10 days with no output and shows a simple plot of surface relative vorticity. You can change how long it runs and how often it outputs results."
   ]
  },
  {
   "cell_type": "code",
   "execution_count": null,
   "id": "922963bd-5861-4a01-aaf6-56df1149f228",
   "metadata": {},
   "outputs": [],
   "source": [
    "run!(simulation, period=Day(5), output=true)"
   ]
  },
  {
   "cell_type": "markdown",
   "id": "4d7e3659-dec6-478b-8cf8-2813e4686e1a",
   "metadata": {},
   "source": [
    "You would continue this simulation (the previous run! call already integrated 10 days!) for another 5 days and storing default NetCDF output."
   ]
  },
  {
   "cell_type": "markdown",
   "id": "fbeeb13d-d0d9-4ba2-b231-6cc3a31dc2ad",
   "metadata": {},
   "source": [
    "### 🛫 5. Initial Conditions \n",
    "\n",
    "Every simulation in SpeedyWeather.jl begins with an initial state — this is like giving the model a \"kickstart\" by specifying the atmosphere’s conditions at time zero.\n",
    "\n",
    "Instead of storing the wind components directly, SpeedyWeather.jl represents the atmospheric dynamics using vorticity and divergence, from which zonal (_u_) and meridional (_v_) winds are computed diagnostically.\n",
    "\n",
    "The prognostic variables (those predicted by the model over time) include, for example:\n",
    "\n",
    "- Vorticity (_vor_) – linked to the curl of the wind field\n",
    "\n",
    "- Divergence (_div_) – related to the divergence or convergence of the wind field\n",
    "\n",
    "- Temperature (_temp_) – layered vertically\n",
    "\n",
    "- Specific humidity (_humid_) – moisture content in the air\n",
    "\n",
    "- Surface pressure (_pres_) – at the bottom boundary\n",
    "\n",
    "Optional: land and ocean fields like soil temperature, sea surface temperature, albedo, and fluxes.\n",
    "\n",
    "These variables are initialized in spectral space and are evolved over time by the model’s dynamical core."
   ]
  },
  {
   "cell_type": "markdown",
   "id": "b092c9fe-2218-4a16-8f3c-d9dff7f5baca",
   "metadata": {},
   "source": [
    "🚨There are three main ways to set initial conditions in SpeedyWeather.jl:\n",
    "\n",
    "1️⃣ Direct assignment to simulation.prognostic_variables:\tadvenced level - manually set values, often in spectral space (e.g. spherical harmonics coefficients).\n",
    "\n",
    "2️⃣ Using the set! function:\tintermediate level - sets initial values via a simplified interface without needing to know spectral/grid details.\n",
    "\n",
    "3️⃣ Assigning the initial_conditions field of the model:\teasy level and recommended - uses predefined or custom structs to define the initial state."
   ]
  },
  {
   "cell_type": "markdown",
   "id": "9cf6d347-7997-4c44-baae-812cb56ee5bd",
   "metadata": {},
   "source": [
    "🧪 Predefined Initial Conditions\n",
    "SpeedyWeather.jl comes with several ready-made initial conditions, such as:\n",
    "\n",
    "- _RestState()_ — all variables are at rest (no motion).\n",
    "\n",
    "- _ZonalJet()_ — introduces balanced zonal winds.\n",
    "\n",
    "- _BaroclinicWave()_ — triggers baroclinic instability.\n",
    "\n",
    "- _RossbyHaurwitzWave(n)_ — classic test case for global models with wave number n."
   ]
  },
  {
   "cell_type": "markdown",
   "id": "83bf10ab-7c7f-4abe-94e8-1e4dc3604536",
   "metadata": {},
   "source": [
    "🚨Below we show a few practical examples of how to set initial conditions in SpeedyWeather.jl using these different approaches:"
   ]
  },
  {
   "cell_type": "code",
   "execution_count": null,
   "id": "e002aa6c-cbc5-45ae-afb1-4a5863d3cf3a",
   "metadata": {},
   "outputs": [],
   "source": [
    "#Create a grid\n",
    "spectral_grid = SpectralGrid(trunc=63, nlayers=5)\n",
    "\n",
    "# Create model with default timestepper\n",
    "model_m2 = PrimitiveWetModel(spectral_grid)\n",
    "\n",
    "# 2️⃣ Method 2: Using set! function\n",
    "simulation_m2 = initialize!(model_m2)\n",
    "\n",
    "m = 4\n",
    "ω = 7.848e-6\n",
    "K = 7.848e-6\n",
    "\n",
    "ζ(λ, θ, σ) = 2ω*sind(θ) - K*sind(θ)*cosd(θ)^m*(m^2 + 3m + 2)*cosd(m*λ)\n",
    "set!(simulation_m2, vor=ζ)\n",
    "\n",
    "# [1] for first leapfrog time step, [:, 1] for all values on first layer\n",
    "vor = simulation_m2.prognostic_variables.vor[:, 1, 1]\n",
    "vor_grid = transform(vor)\n",
    "\n",
    "heatmap(vor_grid, title=\"Relative vorticity [1/s] of Rossby-Haurwitz wave\")"
   ]
  },
  {
   "cell_type": "code",
   "execution_count": null,
   "id": "4e3dd6d5-dad1-4db0-97af-8cdac2fcab3e",
   "metadata": {},
   "outputs": [],
   "source": [
    "run!(simulation_m2, period=Day(5))"
   ]
  },
  {
   "cell_type": "code",
   "execution_count": null,
   "id": "701cdb88-a0d1-42ea-8ca8-be68914ea088",
   "metadata": {},
   "outputs": [],
   "source": [
    "vor = simulation_m2.diagnostic_variables.grid.vor_grid[:, 3]\n",
    "heatmap(vor, title=\"Relative vorticity [1/s], primitive Rossby-Haurwitz wave\")"
   ]
  },
  {
   "cell_type": "code",
   "execution_count": null,
   "id": "00fa6847-6d8a-42f5-9988-65f7b3448e9f",
   "metadata": {},
   "outputs": [],
   "source": [
    "# 3️⃣ Method 3: Using a predefined initial condition struct\n",
    "spectral_grid = SpectralGrid(trunc=42, nlayers=8)\n",
    "initial_conditions = InitialConditions(\n",
    "                        vordiv=RossbyHaurwitzWave(),\n",
    "                        temp=JablonowskiTemperature(),\n",
    "                        pres=PressureOnOrography())\n",
    "\n",
    "orography = NoOrography(spectral_grid)\n",
    "time_stepping = Leapfrog(spectral_grid, Δt_at_T31=Minute(30))   # 30min timestep scaled linearly\n",
    "\n",
    "model_m3 = PrimitiveDryModel(spectral_grid; time_stepping, initial_conditions, orography, physics=false)\n",
    "simulation_m3 = initialize!(model_m3)\n",
    "\n",
    "vor = simulation_m3.prognostic_variables.vor[:, 1, 1]\n",
    "vor_grid = transform(vor)\n",
    "\n",
    "heatmap(vor_grid, title=\"Relative vorticity [1/s] of Rossby-Haurwitz wave\")"
   ]
  },
  {
   "cell_type": "code",
   "execution_count": null,
   "id": "012f276c-4770-46c0-a1dc-1de3ddcd7b77",
   "metadata": {},
   "outputs": [],
   "source": [
    "run!(simulation_m3, period=Day(5))"
   ]
  },
  {
   "cell_type": "code",
   "execution_count": null,
   "id": "3b4f7e39-b4a3-40d2-a5dc-9d06cfcba627",
   "metadata": {},
   "outputs": [],
   "source": [
    "vor = simulation_m3.diagnostic_variables.grid.vor_grid[:, end] \n",
    "#`end` indexes the last item of the array, equivalent to -1 in Python.\n",
    "# Because levels are stored from top to bottom, this returns the surface level.\n",
    "heatmap(vor, title=\"Relative vorticity [1/s], primitive Rossby-Haurwitz wave\")"
   ]
  },
  {
   "cell_type": "markdown",
   "id": "a2e092ca-cc7f-4c16-a30a-b4d220778228",
   "metadata": {},
   "source": [
    "#### 🧠 Exercise 1: \n",
    "Can you explain how and why the anomaly evolves?\n",
    "What physical processes (advection, wave propagation, etc.) do you think dominate the evolution?"
   ]
  },
  {
   "cell_type": "markdown",
   "id": "869e7110-a15e-4a67-b23a-3e2ed19e4449",
   "metadata": {},
   "source": [
    "#### 💪 Exercise 2: \n",
    "Modify the initial conditions — for example, introduce a temperature anomaly in a specific region (e.g., a warm spot at the equator or a cold blob near the pole).\n",
    "Then run the model and observe how this anomaly evolves over time.\n",
    "\n",
    "👉 You might ask yourself:\n",
    "\n",
    "- Does the anomaly move? If yes, in which direction?\n",
    "\n",
    "- Does it spread out or stay compact?\n",
    "\n",
    "- How does it interact with the wind field?"
   ]
  },
  {
   "cell_type": "markdown",
   "id": "fc5e92e7-77fa-4981-b336-f60febcce7df",
   "metadata": {},
   "source": [
    "#### 💡 Hints: \n",
    "- Create a temperature perturbation as a function of coordinates, vertical level, amplitude and width of the anomaly.\n",
    "- Introduce it to the model using _set!_ .\n",
    "- This formulation can help you set!(simulation, temp=(λ, θ, σ) -> your_function, add=true). "
   ]
  },
  {
   "cell_type": "code",
   "execution_count": null,
   "id": "1407bf08-0659-4849-870a-711e440e5915",
   "metadata": {},
   "outputs": [],
   "source": [
    "# Setup grid and model\n",
    "spectral_grid = SpectralGrid(trunc=63, nlayers=5)\n",
    "orography = NoOrography(spectral_grid)\n",
    "time_stepping = Leapfrog(spectral_grid, Δt_at_T31=Minute(30))   # 30min timestep scaled linearly\n",
    "model = PrimitiveWetModel(spectral_grid; orography, time_stepping)\n",
    "simulation = initialize!(model)\n",
    "\n",
    "λ₀ = 180.0\n",
    "θ₀ = 0.0\n",
    "σ₀ = 0.0\n",
    "amp = 100.0\n",
    "width = 20.0\n",
    "\n",
    "# Update the simulation\n",
    "set!(simulation, temp=(λ, θ, σ) -> amp * exp((-(λ - λ₀)^2 - (θ - θ₀)^2) / (2 * width^2)) * exp(-((σ - σ₀)^2) / (2 * 0.1^2)), add=true)"
   ]
  },
  {
   "cell_type": "code",
   "execution_count": null,
   "id": "2cb0f3b4-8a52-4cb1-a28b-0f914ce46909",
   "metadata": {},
   "outputs": [],
   "source": [
    "# Plot initial anomaly\n",
    "T_0 = simulation.prognostic_variables.temp[:, 1, 1]\n",
    "T_grid = transform(T_0)\n",
    "heatmap(T_grid, title=\"Initial Temperature Anomaly [K]\")"
   ]
  },
  {
   "cell_type": "code",
   "execution_count": null,
   "id": "8ba2b647-d291-46e2-948d-4d04e380fb7b",
   "metadata": {},
   "outputs": [],
   "source": [
    "# Run the model\n",
    "run!(simulation, period=Day(2))"
   ]
  },
  {
   "cell_type": "code",
   "execution_count": null,
   "id": "4abc52c2-6966-48b8-8b82-a0b151c62098",
   "metadata": {},
   "outputs": [],
   "source": [
    "# Plot temperature at layer 1 after 5 days\n",
    "T_end = simulation.diagnostic_variables.grid.temp_grid[:, 1]\n",
    "heatmap(T_end, title=\"Temperature after 5 days [K]\")"
   ]
  },
  {
   "cell_type": "code",
   "execution_count": null,
   "id": "9b25485f-6722-4c6f-abbc-d297c19d17e0",
   "metadata": {},
   "outputs": [],
   "source": [
    "# Plot u at layer 1 after 5 days\n",
    "u_end = simulation.diagnostic_variables.grid.u_grid[:, 1]\n",
    "heatmap(u_end, title=\"u wind [m/s]\")"
   ]
  },
  {
   "cell_type": "code",
   "execution_count": null,
   "id": "cf4b03c1-07e8-46ac-9b3f-29e868a30432",
   "metadata": {},
   "outputs": [],
   "source": [
    "# Plot v at layer 1 after 5 days\n",
    "v_end = simulation.diagnostic_variables.grid.v_grid[:, 1]\n",
    "heatmap(v_end, title=\"v wind [m/s]\")"
   ]
  },
  {
   "cell_type": "code",
   "execution_count": null,
   "id": "53dc88a3-69e3-4752-a483-33a1e7477795",
   "metadata": {},
   "outputs": [],
   "source": []
  }
 ],
 "metadata": {
  "kernelspec": {
   "display_name": "Julia 1.11.6",
   "language": "julia",
   "name": "julia-1.11"
  },
  "language_info": {
   "file_extension": ".jl",
   "mimetype": "application/julia",
   "name": "julia",
   "version": "1.11.6"
  }
 },
 "nbformat": 4,
 "nbformat_minor": 5
}
