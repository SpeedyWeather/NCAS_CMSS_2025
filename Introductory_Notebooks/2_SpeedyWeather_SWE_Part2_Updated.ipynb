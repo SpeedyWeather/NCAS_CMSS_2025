{
 "cells": [
  {
   "cell_type": "markdown",
   "id": "d4ebae90-d10d-4fc8-88d9-8011d0728552",
   "metadata": {},
   "source": [
    "# Using SpeedyWeather. Idealised model: Shallow Water Equations on the Sphere\n",
    "### Notebook originally created by P.L. Vidale. Minor edits by A. Denvil-Sommer.\n",
    "\n"
   ]
  },
  {
   "cell_type": "markdown",
   "id": "08d378d4-396f-4006-9b61-d6d5fe66e884",
   "metadata": {},
   "source": [
    "The shallow water equations of velocity $\\mathbf{u} = (u, v)$ and interface height $\\eta$\n",
    "(i.e. the deviation from the fluid's rest height $H$, therefore the dynamics layer thickness is $h = \\eta + H - H_b$) are\n",
    "formulated in terms of relative vorticity $\\zeta = \\nabla \\times \\mathbf{u}$ and\n",
    "divergence $\\mathcal{D} = \\nabla \\cdot \\mathbf{u}$, so that:\n",
    "\n",
    "$\n",
    "\\begin{aligned}\n",
    "\\frac{\\partial \\zeta}{\\partial t} + \\nabla \\cdot (\\mathbf{u}(\\zeta + f)) &=\n",
    "F_\\zeta + \\nabla \\times \\mathbf{F}_\\mathbf{u} + (-1)^{n+1}\\nu\\nabla^{2n}\\zeta, \\\\\n",
    "\\frac{\\partial \\mathcal{D}}{\\partial t} - \\nabla \\times (\\mathbf{u}(\\zeta + f)) &=\n",
    "F_\\mathcal{D} + \\nabla \\cdot \\mathbf{F}_\\mathbf{u}\n",
    "-\\nabla^2(\\tfrac{1}{2}(u^2 + v^2) + g\\eta) + (-1)^{n+1}\\nu\\nabla^{2n}\\mathcal{D}, \\\\\n",
    "\\frac{\\partial \\eta}{\\partial t} + \\nabla \\cdot (\\mathbf{u}h) &= F_\\eta,\n",
    "\\end{aligned}\n",
    "$\n",
    "\n",
    "The full description of the model, and the solution algorithm, is provided here: [Speedy Shallow Water](https://speedyweather.github.io/SpeedyWeatherDocumentation/dev/examples_2D/#Shallow-water-with-mountains)"
   ]
  },
  {
   "cell_type": "markdown",
   "id": "80f412cb-831d-4473-9c37-df40e8ab4d72",
   "metadata": {},
   "source": [
    "## 🌊🌍🌀 Exercise: Gravity-Inertia Waves and Equatorially Trapped Waves.\n",
    "In this exercise we will experiment with GIWs on the sphere, as well as attempt to initiate a Kelvin wave (Equatorially Trapped Waves). For the more adventurous, there is a final optional task at the end of the notebook. \n",
    "\n",
    "📌 **Atmospheric waves** include **gravity-inertia waves**, driven by gravity and rotation, and **equatorially trapped waves**, which stay near the equator due to the changing Coriolis effect. These wave types help explain many large-scale tropical and global weather patterns.\n",
    "\n",
    "First we load the SpeedyWeather package and define the resolution of the simulation with a `SpectralGrid` object."
   ]
  },
  {
   "cell_type": "markdown",
   "id": "36528a54-2e66-4cc5-9abb-81c0098ce127",
   "metadata": {},
   "source": [
    "### 1. Define resolution"
   ]
  },
  {
   "cell_type": "code",
   "execution_count": null,
   "id": "b5c3a9e0-48a8-4417-8dab-3a3bdfd9278f",
   "metadata": {},
   "outputs": [],
   "source": [
    "using SpeedyWeather\n",
    "spectral_grid = SpectralGrid(trunc=127, nlayers=1)"
   ]
  },
  {
   "cell_type": "markdown",
   "id": "faf953da-1016-4844-b3b4-4116abaf328d",
   "metadata": {},
   "source": [
    "### 2. Define model components"
   ]
  },
  {
   "cell_type": "markdown",
   "id": "c10d7ab4-de39-453f-a707-ec8b1a91806b",
   "metadata": {},
   "source": [
    "Now we define the model components that we want to customize, this includes numerics, initial and boundary conditions and output"
   ]
  },
  {
   "cell_type": "code",
   "execution_count": null,
   "id": "6f744dd6-1867-4255-97f0-4b884d06be1f",
   "metadata": {},
   "outputs": [],
   "source": [
    "output = NetCDFOutput(spectral_grid, ShallowWater, path=\"./\", id=\"Bell\", output_dt=Minute(5))\n",
    "\n",
    "# this is a centred semi-implicit scheme, backwards implicit with α=1 dampens gravity waves more\n",
    "implicit = ImplicitShallowWater(spectral_grid, α=0.5)\n",
    "\n",
    "orography = NoOrography(spectral_grid)\n",
    "initial_conditions = StartFromRest()    # but set initial conditions for divergence manually after model construction\n",
    "\n",
    "# now construct the model by passing all components to the model constructor (\";\" means they are matched by name)\n",
    "model = ShallowWaterModel(spectral_grid; orography, initial_conditions, implicit, output)"
   ]
  },
  {
   "cell_type": "markdown",
   "id": "1ea7d72b-a209-477d-b324-94c8550b0b6b",
   "metadata": {},
   "source": [
    "If you want to save your output in specific directory you can identify it like this:\n",
    "\n",
    "output = NetCDFOutput(spectral_grid, ShallowWater, path=\"**Your_path**\", id=\"Bell\", output_dt=Minute(60))"
   ]
  },
  {
   "cell_type": "markdown",
   "id": "705bf552-b387-47e7-b8a3-5f3d82479181",
   "metadata": {},
   "source": [
    "The `model` contains everything that defines the model setup. It does not contain variables and is (almost entirely) constant during simulation.\n",
    "\n",
    "### 3. Initialize the model\n",
    "\n",
    "We get the variables packed into a single `simulation` object when we initialize the model, which also initializes all its components"
   ]
  },
  {
   "cell_type": "code",
   "execution_count": null,
   "id": "f44812aa-0c67-4ccd-9328-b7731de2550f",
   "metadata": {},
   "outputs": [],
   "source": [
    "simulation = initialize!(model)"
   ]
  },
  {
   "cell_type": "markdown",
   "id": "fddd617b-8dbe-48f5-9d29-94a63a0ebe83",
   "metadata": {},
   "source": [
    "☝️ Variables in the model are divided into **prognostic variables**, which define the evolving state of the system and are carried forward in time, and **diagnostic variables**, which are calculated from the prognostic ones at each time step but are not retained between steps. \n",
    "\n",
    "### 3.1 Manual initial conditions after initialization\n",
    "\n",
    "At this point the prognostic variable pressure is zero as we set the initial conditions to `StartFromRest`, which is applied in `initialize!(model)`. We now manually redefine the initial conditions of pressure by setting those as follows"
   ]
  },
  {
   "cell_type": "code",
   "execution_count": null,
   "id": "4a078b29-c4df-4c40-adda-855643ff57d1",
   "metadata": {},
   "outputs": [],
   "source": [
    "#div(λ, θ, σ) = min(-1e-6*exp(-((λ-150)^2+θ^2)/(3^2)), 0)\n",
    "#set!(simulation, div=div)\n",
    "pres(λ, θ) = max(1e4*exp(-((λ-150)^2+θ^2)/(3^2)), 0)\n",
    "set!(simulation, pres=pres)"
   ]
  },
  {
   "cell_type": "markdown",
   "id": "9612aec7-39af-45e6-9203-6306b4a30691",
   "metadata": {},
   "source": [
    "Because SpeedyWeather is a spectral model its prognostic variables (like divergence) are set in spectral space, we therefore have to `transform` them back to grid space to visualise them. Using `CairoMakie` we make a `heatmap` of these initial conditions"
   ]
  },
  {
   "cell_type": "code",
   "execution_count": null,
   "id": "26df0ea9-6468-41a9-87d1-730d5865190a",
   "metadata": {},
   "outputs": [],
   "source": [
    "using CairoMakie\n",
    "#heatmap(transform(simulation.prognostic_variables.div[:, 1, 1]), title=\"Divergence initial conditions\")\n",
    "heatmap(transform(simulation.prognostic_variables.pres[:, 1]), title=\"Pressure initial conditions\")"
   ]
  },
  {
   "cell_type": "markdown",
   "id": "a7d6bc19-bd7a-432d-a8d5-5401b0eace78",
   "metadata": {},
   "source": [
    "In `pres[:, 1, 1]` the last `1` refers to current time step (SpeedyWeather uses a leapfrog scheme so always two steps are stored simulateneously), the first two indices takes the first (uppermost) layer."
   ]
  },
  {
   "cell_type": "markdown",
   "id": "8514da36-7688-4336-98c8-80e43560118c",
   "metadata": {},
   "source": [
    "# 4. Run the simulation\n",
    "\n",
    "Now we run the simulation for one day and visualise the interface displacement (the pressure-equivalent variable in the shallow water model) which is called `pres`. Instead of `transform`ing it like above we can also just read that same variable from the diagnostic variables which has already been transformed (all prognostic variables have to be transformed on every time step)."
   ]
  },
  {
   "cell_type": "code",
   "execution_count": null,
   "id": "5bd9cdb7-4974-46b9-bbaf-92b19cf4ed6e",
   "metadata": {},
   "outputs": [],
   "source": [
    "# run!(simulation, period=Day(1))\n",
    "\n",
    "# heatmap(simulation.diagnostic_variables.grid.pres_grid, title=\"Interface displacement [m], pressure in shallow water\")\n",
    "\n",
    "run!(simulation, period=Day(1), output=true)\n",
    "\n",
    "using GeoMakie\n",
    "heatmap(simulation.diagnostic_variables.grid.pres_grid, title=\"Interface displacement [m] in shallow water model\")\n",
    "#animate(simulation, variable=\"eta\", output_file=\"Bell_eta_animation.mp4\", level=1) # animate vorticity at the first vertical level\n"
   ]
  },
  {
   "cell_type": "markdown",
   "id": "daf67aba-8a6a-46f5-9d66-362754901eb4",
   "metadata": {},
   "source": [
    "### 🧠 Questions on GIWs on the sphere\n",
    "- what is their speed of propagation? Can you design a type of plot that will allow you to measure that?\n",
    "- is a semi-implicit scheme really necessary? What happens if you reduce the alpha coefficient in order to approach a nearly explicit time scheme?\n",
    "- anything else happening in the domain? Why?"
   ]
  },
  {
   "cell_type": "markdown",
   "id": "4d9a5526-208a-4f2a-b0ae-8f9f11e01ede",
   "metadata": {},
   "source": [
    "### ⛰️🌍🌪️ Now let us try to initiate the same GI waves, albeit with Earth's orography instead of imposing a smooth planet's surface.\n",
    "🧠 Questions for this new exercise:\n",
    "- what happens to the GIWs in this case?\n",
    "- how is orography affecting the waves, that is, what is in fact happening in this type of simulation?\n"
   ]
  },
  {
   "cell_type": "code",
   "execution_count": null,
   "id": "7dbb87e5-57e9-44d9-8cef-5222c0e7c12c",
   "metadata": {},
   "outputs": [],
   "source": [
    "output = NetCDFOutput(spectral_grid, ShallowWater, path=\"./\", id=\"Bell_EarthOrography\", output_dt=Minute(5))\n",
    "orography = EarthOrography(spectral_grid, smoothing=false)    # redefine orography, reuse other model components \n",
    "model = ShallowWaterModel(spectral_grid; orography, initial_conditions, implicit, output)\n",
    "simulation = initialize!(model)\n",
    "\n",
    "set!(simulation, pres=pres)\n",
    "run!(simulation, period=Day(1), output=true)\n",
    "\n",
    "heatmap(simulation.diagnostic_variables.grid.pres_grid, title=\"Interface displacement [m], pressure in shallow water\")\n",
    "#animate(simulation, variable=\"eta\", output_file=\"Bell_Orography_eta_animation.mp4\", level=1) # animate vorticity at the first vertical level\n",
    "     "
   ]
  },
  {
   "cell_type": "markdown",
   "id": "65a4f14d-9741-4c12-92fc-9d38a147c82c",
   "metadata": {},
   "source": [
    "### 🧭⛰️🌬️ Now let us try to initiate the wave at a location very near the \"Andes mountains\". \n",
    "🧠 Questions:\n",
    "- what happens to the waves in this case?\n",
    "- how similar or different is this from a typical tsunami, e.g. this: https://www.youtube.com/watch?v=qoxTC3vIF1U"
   ]
  },
  {
   "cell_type": "code",
   "execution_count": null,
   "id": "30debe47-913c-4281-bad7-f45203a31285",
   "metadata": {},
   "outputs": [],
   "source": [
    "# reinitialize same model to reset the variables\n",
    "# simulation = initialize!(model)\n",
    "\n",
    "# #Now try with the source in the SH hemisphere, near the Andes\n",
    "# div(λ, θ, σ) = min.(-1e-4*exp(-((λ-285)^2+(θ+30)^2)/(3^2)), 0)\n",
    "# set!(simulation, div=div)\n",
    "\n",
    "output = NetCDFOutput(spectral_grid, ShallowWater, path=\"./\", id=\"Bell_Andes\", output_dt=Minute(5))\n",
    "# reinitialize same model to reset the variables\n",
    "model = ShallowWaterModel(spectral_grid; orography, initial_conditions, implicit, output)\n",
    "simulation = initialize!(model)\n",
    "\n",
    "#Now try with the source in the SH hemisphere, near the Andes\n",
    "#div(λ, θ, σ) = min.(-1e-4*exp(-((λ-285)^2+(θ+30)^2)/(3^2)), 0)\n",
    "#set!(simulation, div=div)\n",
    "\n",
    "pres(λ, θ) = max(1e4*exp(-((λ-285)^2+(θ+30)^2)/(3^2)), 0)\n",
    "set!(simulation, pres=pres)\n",
    "\n",
    "run!(simulation, period=Day(1), output=true)\n",
    "\n",
    "heatmap(simulation.diagnostic_variables.grid.pres_grid, title=\"Interface displacement [m], pressure in shallow water\")\n",
    "#animate(simulation, variable=\"eta\", output_file=\"Bell_Orography_Andes_eta_animation.mp4\", level=1) # animate vorticity at the first vertical level\n",
    "     \n"
   ]
  },
  {
   "cell_type": "markdown",
   "id": "d6e74104-9444-4c30-80b8-7ca68b662dd4",
   "metadata": {},
   "source": [
    "## 💨🌀🧪 Zonal jet and the Galewski problem\n",
    "\n",
    "This is a classic benchmark for testing the accuracy and stability of numerical methods in atmospheric models. It features a balanced zonal (eastward) jet with a small perturbation, which evolves into complex wave patterns.\n",
    "\n",
    "We're also using this example to demonstrate how to save model outputs to NetCDF and later read and plot them using CairoMakie.\n",
    "\n",
    "✨ Why it's useful:\n",
    "- The Galewski problem helps evaluate how well your model conserves energy and balances forces over time.\n",
    "\n",
    "- It reveals if your model handles wave propagation and instabilities realistically.\n",
    "\n",
    "- It gives you practice with data output workflows, useful in larger model experiments.\n",
    "\n",
    "👉 Let’s begin by **setting up an entirely new initial conditions** (IC) and visualizing them at time=0."
   ]
  },
  {
   "cell_type": "code",
   "execution_count": null,
   "id": "9e6d7346-42a3-4685-8cd8-1fe094efbd73",
   "metadata": {},
   "outputs": [],
   "source": [
    "initial_conditions = ZonalJet()"
   ]
  },
  {
   "cell_type": "markdown",
   "id": "77a0727f-3e29-4d17-8413-cbb17706f11f",
   "metadata": {},
   "source": [
    "#### Next, we run a new simulation, to investigate the response of the SWE system is to an IC that has shear in it. \n",
    "Note that initially we shall run without any orography. Do follow the instructions for the Graviti-Inertia Waves to try a simulation that includes orography.\n",
    "\n",
    "🧠 Questions on this Galewski problem:\n",
    "- What does it mean for the total vorticity field at the start of the simulation? \n",
    "- What are the implications of \"necessary conditions\" for a well-known type of dynamic instability?"
   ]
  },
  {
   "cell_type": "code",
   "execution_count": null,
   "id": "57d64670-81f2-417b-900b-804792c1eae1",
   "metadata": {},
   "outputs": [],
   "source": [
    "output = NetCDFOutput(spectral_grid, ShallowWater, path=\"./\", id=\"Galewski\", output_dt=Minute(30))\n",
    "orography = NoOrography(spectral_grid)\n",
    "model = ShallowWaterModel(spectral_grid; orography, initial_conditions, output)\n",
    "simulation = initialize!(model)\n",
    "run!(simulation, period=Day(6), output=true)"
   ]
  },
  {
   "cell_type": "markdown",
   "id": "ded76a7e-5bb0-4e90-b604-cfce9ef34448",
   "metadata": {},
   "source": [
    "#### Notice above how we invoked the writing of our simulation data to NetCDF. Next, we are going to read it back and create some plots with CairoMakie."
   ]
  },
  {
   "cell_type": "code",
   "execution_count": null,
   "id": "8be54828-a628-4a29-9f2c-5746ed164561",
   "metadata": {},
   "outputs": [],
   "source": [
    "#id = model.output.id\n",
    "#id\n",
    "using NCDatasets\n",
    "path = joinpath(model.output.run_path, model.output.filename)\n",
    "ds = NCDataset(path)\n",
    "ds[\"vor\"]"
   ]
  },
  {
   "cell_type": "markdown",
   "id": "6de1ad8e-ad3b-45f6-8884-227a71849054",
   "metadata": {},
   "source": [
    "### First, we plot the initial condition"
   ]
  },
  {
   "cell_type": "code",
   "execution_count": null,
   "id": "6b90f564-04d4-4f97-b2b7-eac599685b44",
   "metadata": {},
   "outputs": [],
   "source": [
    "t = 1\n",
    "vor = Matrix{Float32}(ds[\"vor\"][:, :, 1, t]) # convert from Matrix{Union{Missing, Float32}} to Matrix{Float32}\n",
    "lat = ds[\"lat\"][:]\n",
    "lon = ds[\"lon\"][:]\n",
    "\n",
    "heatmap(lon, lat, vor)"
   ]
  },
  {
   "cell_type": "markdown",
   "id": "6ed8aa57-58ec-440c-864c-e4eaa655257b",
   "metadata": {},
   "source": [
    "### Next, the end state"
   ]
  },
  {
   "cell_type": "code",
   "execution_count": null,
   "id": "d5b8a18c-bc88-46a8-8c23-dbc457db905c",
   "metadata": {},
   "outputs": [],
   "source": [
    "t = 289\n",
    "vor = Matrix{Float32}(ds[\"vor\"][:, :, 1, t]) # convert from Matrix{Union{Missing, Float32}} to Matrix{Float32}\n",
    "lat = ds[\"lat\"][:]\n",
    "lon = ds[\"lon\"][:]\n",
    "heatmap(lon, lat, vor)"
   ]
  },
  {
   "cell_type": "markdown",
   "id": "3007168c-24b7-4c7a-9dca-ef0e9d3233b2",
   "metadata": {},
   "source": [
    "## 🌍🌊🔁 Spawning Equatorially Trapped Waves on the sphere.\n",
    "\n",
    "These are low-frequency waves trapped near the equator. Similar to gravity-inertia waves, they are triggered by a localized source — but this time, we’re using a time-pulsing forcing term on the right-hand side of the equations.\n",
    "\n",
    "🔧 Try experimenting with the spatial scale of the forcing and the pulsing frequency. You'll see how different setups affect the structure and behavior of the waves — including how far they reach and how strongly they remain trapped near the equator."
   ]
  },
  {
   "cell_type": "code",
   "execution_count": null,
   "id": "32c83bad-a8b2-4b24-be36-d480832a2673",
   "metadata": {},
   "outputs": [],
   "source": [
    "# define new forcing\n",
    "struct EquatorialPumping <: SpeedyWeather.AbstractForcing end\n",
    "\n",
    "SpeedyWeather.initialize!(::EquatorialPumping, ::AbstractModel) = nothing\n",
    "\n",
    "function SpeedyWeather.forcing!(\n",
    "    diagn::DiagnosticVariables,\n",
    "    progn::PrognosticVariables,\n",
    "    forcing::EquatorialPumping,\n",
    "    lf::Integer,\n",
    "    model::AbstractModel,\n",
    ")\n",
    "    Fη_grid = diagn.tendencies.pres_tend_grid\n",
    "    Fη = diagn.tendencies.pres_tend\n",
    "\n",
    "    # time in seconds since start, time scale τ [s]\n",
    "    (; clock) = progn\n",
    "    t = Second(clock.time - clock.start).value\n",
    "    τ = 1*24*3600\n",
    "    \n",
    "    # this is a little hacky requiring unfortunately another transform as pres_tend_grid is otherwise not used ... \n",
    "    # set in grid space, transform to spectral as pres_tend_grid is not used in the ShallowWaterModel\n",
    "    set!(Fη_grid, (λ, θ) -> 1000*exp(-((λ-150)^2+θ^2)/(10^2))*sin(2π*t/τ), model.geometry)\n",
    "    transform!(Fη, Fη_grid, model.spectral_transform)\n",
    "end\n",
    "\n",
    "forcing = EquatorialPumping()\n",
    "\n",
    "implicit = ImplicitShallowWater(spectral_grid, α=0.5)\n",
    "initial_conditions = StartFromRest() \n",
    "\n",
    "model = ShallowWaterModel(spectral_grid; initial_conditions, implicit, forcing, output=output)\n",
    "simulation = initialize!(model)\n",
    "run!(simulation, period=Day(10), output=true)\n",
    "\n",
    "using CairoMakie\n",
    "heatmap(simulation.diagnostic_variables.grid.pres_grid, title=\"Interface displacement [m]\")\n"
   ]
  },
  {
   "cell_type": "markdown",
   "id": "e232808f-fc18-499d-a213-b50858443a57",
   "metadata": {},
   "source": [
    "## 🧠 Questions on Equatorially Trapped Waves\n",
    "- What waves do you see on the Equator?\n",
    "- Which is the direction of propagation and what is their speed?\n",
    "- Can you name these waves?\n",
    "- The way we forced these waves to be trapped has used quite an unrealistic method. Thinking of our real planet, how would one go about creating a total vorticity field that will trap waves within an equatorial channel?\n",
    "    - If you want to pursue this further, one interim solution (albeit still not realistic) to setting up initial conditions is proposed here: https://speedyweather.github.io/SpeedyWeatherDocumentation/dev/initial_conditions/"
   ]
  },
  {
   "cell_type": "markdown",
   "id": "9d8bc2a9-da4c-4c43-b726-3adae733803b",
   "metadata": {},
   "source": [
    "## 🚀 Optional exercise for the more adventurous\n",
    "- Can you think of more planetary waves?\n",
    "    - Examples are Rosbby waves, as well as Rossby-Haurwitz waves.\n",
    "- How would you go about spawning them from the theoretical point of view?\n",
    "    - in practice, see again the page on setting up initial conditions: https://speedyweather.github.io/SpeedyWeatherDocumentation/dev/initial_conditions/"
   ]
  },
  {
   "cell_type": "markdown",
   "id": "f587d360-cd01-4c2a-8c0b-afdeee46258d",
   "metadata": {},
   "source": [
    "## Appendix: some key information about the SWE in SpeedyWeather"
   ]
  },
  {
   "cell_type": "code",
   "execution_count": null,
   "id": "33d61fb6-7c73-4f34-a3af-119f3507e28c",
   "metadata": {},
   "outputs": [],
   "source": [
    "simulation.prognostic_variables"
   ]
  },
  {
   "cell_type": "code",
   "execution_count": null,
   "id": "51247f94-3ac1-4594-b4cf-c21a4f480fbb",
   "metadata": {},
   "outputs": [],
   "source": []
  }
 ],
 "metadata": {
  "kernelspec": {
   "display_name": "Julia 1.11.6",
   "language": "julia",
   "name": "julia-1.11"
  },
  "language_info": {
   "file_extension": ".jl",
   "mimetype": "application/julia",
   "name": "julia",
   "version": "1.11.6"
  }
 },
 "nbformat": 4,
 "nbformat_minor": 5
}
